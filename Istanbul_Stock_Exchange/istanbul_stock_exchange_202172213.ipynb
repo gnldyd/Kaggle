{
  "nbformat": 4,
  "nbformat_minor": 0,
  "metadata": {
    "colab": {
      "name": "istanbul_stock_exchange_202172213.ipynb",
      "provenance": [],
      "collapsed_sections": [],
      "mount_file_id": "1HSQ18W4GLg2VWG2aO48wFbLGpuyQLUSA",
      "authorship_tag": "ABX9TyNOg2tnF8XB4B1OGl9fAjox",
      "include_colab_link": true
    },
    "kernelspec": {
      "name": "python3",
      "display_name": "Python 3"
    },
    "language_info": {
      "name": "python"
    }
  },
  "cells": [
    {
      "cell_type": "markdown",
      "metadata": {
        "id": "view-in-github",
        "colab_type": "text"
      },
      "source": [
        "<a href=\"https://colab.research.google.com/github/gnldyd/Kaggle/blob/main/Istanbul_Stock_Exchange/istanbul_stock_exchange_202172213.ipynb\" target=\"_parent\"><img src=\"https://colab.research.google.com/assets/colab-badge.svg\" alt=\"Open In Colab\"/></a>"
      ]
    },
    {
      "cell_type": "markdown",
      "metadata": {
        "id": "FSh2pdA8S6HS"
      },
      "source": [
        "2021 1st semester - machine learning - 1st assignment\n",
        "\n",
        "ISTANBUL STOCK EXCHANGE \n",
        "\n",
        "202172213 Hwiyong Chang"
      ]
    },
    {
      "cell_type": "code",
      "metadata": {
        "id": "FaJoNfwT-YLB",
        "colab": {
          "base_uri": "https://localhost:8080/"
        },
        "outputId": "f0659c8d-bbcc-49d7-f5e6-b29a6cb49c25"
      },
      "source": [
        "from google.colab import drive\n",
        "drive.mount('/content/drive')"
      ],
      "execution_count": null,
      "outputs": [
        {
          "output_type": "stream",
          "text": [
            "Drive already mounted at /content/drive; to attempt to forcibly remount, call drive.mount(\"/content/drive\", force_remount=True).\n"
          ],
          "name": "stdout"
        }
      ]
    },
    {
      "cell_type": "markdown",
      "metadata": {
        "id": "oxt4n176bJD0"
      },
      "source": [
        "Import"
      ]
    },
    {
      "cell_type": "code",
      "metadata": {
        "id": "_USgTzOs5Ug-"
      },
      "source": [
        "import pandas as pd\n",
        "import numpy as np\n",
        "import matplotlib.pyplot as plt\n",
        "from sklearn.preprocessing import StandardScaler\n",
        "from sklearn.model_selection import train_test_split\n",
        "from sklearn.preprocessing import PolynomialFeatures\n",
        "from matplotlib import pyplot as plt\n",
        "from tqdm import tqdm"
      ],
      "execution_count": null,
      "outputs": []
    },
    {
      "cell_type": "markdown",
      "metadata": {
        "id": "16UpUB1agowl"
      },
      "source": [
        "0. Load data"
      ]
    },
    {
      "cell_type": "markdown",
      "metadata": {
        "id": "JdltUPjFLz5X"
      },
      "source": [
        "0.1. Make data frame"
      ]
    },
    {
      "cell_type": "code",
      "metadata": {
        "colab": {
          "base_uri": "https://localhost:8080/",
          "height": 204
        },
        "id": "TvZAcGJa5sT3",
        "outputId": "28983569-4856-4534-f556-8c44b380be13"
      },
      "source": [
        "#url = 'https://archive.ics.uci.edu/ml/machine-learning-databases/00247/data_akbilgic.xlsx'\n",
        "url = './drive/MyDrive/Colab Notebooks/data/data_akbilgic.xlsx'\n",
        "data = pd.read_excel(url, header=1)\n",
        "data.head()"
      ],
      "execution_count": null,
      "outputs": [
        {
          "output_type": "execute_result",
          "data": {
            "text/html": [
              "<div>\n",
              "<style scoped>\n",
              "    .dataframe tbody tr th:only-of-type {\n",
              "        vertical-align: middle;\n",
              "    }\n",
              "\n",
              "    .dataframe tbody tr th {\n",
              "        vertical-align: top;\n",
              "    }\n",
              "\n",
              "    .dataframe thead th {\n",
              "        text-align: right;\n",
              "    }\n",
              "</style>\n",
              "<table border=\"1\" class=\"dataframe\">\n",
              "  <thead>\n",
              "    <tr style=\"text-align: right;\">\n",
              "      <th></th>\n",
              "      <th>date</th>\n",
              "      <th>ISE</th>\n",
              "      <th>ISE.1</th>\n",
              "      <th>SP</th>\n",
              "      <th>DAX</th>\n",
              "      <th>FTSE</th>\n",
              "      <th>NIKKEI</th>\n",
              "      <th>BOVESPA</th>\n",
              "      <th>EU</th>\n",
              "      <th>EM</th>\n",
              "    </tr>\n",
              "  </thead>\n",
              "  <tbody>\n",
              "    <tr>\n",
              "      <th>0</th>\n",
              "      <td>2009-01-05</td>\n",
              "      <td>0.035754</td>\n",
              "      <td>0.038376</td>\n",
              "      <td>-0.004679</td>\n",
              "      <td>0.002193</td>\n",
              "      <td>0.003894</td>\n",
              "      <td>0.000000</td>\n",
              "      <td>0.031190</td>\n",
              "      <td>0.012698</td>\n",
              "      <td>0.028524</td>\n",
              "    </tr>\n",
              "    <tr>\n",
              "      <th>1</th>\n",
              "      <td>2009-01-06</td>\n",
              "      <td>0.025426</td>\n",
              "      <td>0.031813</td>\n",
              "      <td>0.007787</td>\n",
              "      <td>0.008455</td>\n",
              "      <td>0.012866</td>\n",
              "      <td>0.004162</td>\n",
              "      <td>0.018920</td>\n",
              "      <td>0.011341</td>\n",
              "      <td>0.008773</td>\n",
              "    </tr>\n",
              "    <tr>\n",
              "      <th>2</th>\n",
              "      <td>2009-01-07</td>\n",
              "      <td>-0.028862</td>\n",
              "      <td>-0.026353</td>\n",
              "      <td>-0.030469</td>\n",
              "      <td>-0.017833</td>\n",
              "      <td>-0.028735</td>\n",
              "      <td>0.017293</td>\n",
              "      <td>-0.035899</td>\n",
              "      <td>-0.017073</td>\n",
              "      <td>-0.020015</td>\n",
              "    </tr>\n",
              "    <tr>\n",
              "      <th>3</th>\n",
              "      <td>2009-01-08</td>\n",
              "      <td>-0.062208</td>\n",
              "      <td>-0.084716</td>\n",
              "      <td>0.003391</td>\n",
              "      <td>-0.011726</td>\n",
              "      <td>-0.000466</td>\n",
              "      <td>-0.040061</td>\n",
              "      <td>0.028283</td>\n",
              "      <td>-0.005561</td>\n",
              "      <td>-0.019424</td>\n",
              "    </tr>\n",
              "    <tr>\n",
              "      <th>4</th>\n",
              "      <td>2009-01-09</td>\n",
              "      <td>0.009860</td>\n",
              "      <td>0.009658</td>\n",
              "      <td>-0.021533</td>\n",
              "      <td>-0.019873</td>\n",
              "      <td>-0.012710</td>\n",
              "      <td>-0.004474</td>\n",
              "      <td>-0.009764</td>\n",
              "      <td>-0.010989</td>\n",
              "      <td>-0.007802</td>\n",
              "    </tr>\n",
              "  </tbody>\n",
              "</table>\n",
              "</div>"
            ],
            "text/plain": [
              "        date       ISE     ISE.1  ...   BOVESPA        EU        EM\n",
              "0 2009-01-05  0.035754  0.038376  ...  0.031190  0.012698  0.028524\n",
              "1 2009-01-06  0.025426  0.031813  ...  0.018920  0.011341  0.008773\n",
              "2 2009-01-07 -0.028862 -0.026353  ... -0.035899 -0.017073 -0.020015\n",
              "3 2009-01-08 -0.062208 -0.084716  ...  0.028283 -0.005561 -0.019424\n",
              "4 2009-01-09  0.009860  0.009658  ... -0.009764 -0.010989 -0.007802\n",
              "\n",
              "[5 rows x 10 columns]"
            ]
          },
          "metadata": {
            "tags": []
          },
          "execution_count": 3
        }
      ]
    },
    {
      "cell_type": "code",
      "metadata": {
        "colab": {
          "base_uri": "https://localhost:8080/",
          "height": 204
        },
        "id": "0_IjxEEH5yGw",
        "outputId": "a32e4ae9-15b8-4ec5-fe9e-c9c963c9286f"
      },
      "source": [
        "data.rename(columns = {'ISE': 'ISE_TL', 'ISE.1': 'ISE_USD'}, inplace=True)\n",
        "data.head()"
      ],
      "execution_count": null,
      "outputs": [
        {
          "output_type": "execute_result",
          "data": {
            "text/html": [
              "<div>\n",
              "<style scoped>\n",
              "    .dataframe tbody tr th:only-of-type {\n",
              "        vertical-align: middle;\n",
              "    }\n",
              "\n",
              "    .dataframe tbody tr th {\n",
              "        vertical-align: top;\n",
              "    }\n",
              "\n",
              "    .dataframe thead th {\n",
              "        text-align: right;\n",
              "    }\n",
              "</style>\n",
              "<table border=\"1\" class=\"dataframe\">\n",
              "  <thead>\n",
              "    <tr style=\"text-align: right;\">\n",
              "      <th></th>\n",
              "      <th>date</th>\n",
              "      <th>ISE_TL</th>\n",
              "      <th>ISE_USD</th>\n",
              "      <th>SP</th>\n",
              "      <th>DAX</th>\n",
              "      <th>FTSE</th>\n",
              "      <th>NIKKEI</th>\n",
              "      <th>BOVESPA</th>\n",
              "      <th>EU</th>\n",
              "      <th>EM</th>\n",
              "    </tr>\n",
              "  </thead>\n",
              "  <tbody>\n",
              "    <tr>\n",
              "      <th>0</th>\n",
              "      <td>2009-01-05</td>\n",
              "      <td>0.035754</td>\n",
              "      <td>0.038376</td>\n",
              "      <td>-0.004679</td>\n",
              "      <td>0.002193</td>\n",
              "      <td>0.003894</td>\n",
              "      <td>0.000000</td>\n",
              "      <td>0.031190</td>\n",
              "      <td>0.012698</td>\n",
              "      <td>0.028524</td>\n",
              "    </tr>\n",
              "    <tr>\n",
              "      <th>1</th>\n",
              "      <td>2009-01-06</td>\n",
              "      <td>0.025426</td>\n",
              "      <td>0.031813</td>\n",
              "      <td>0.007787</td>\n",
              "      <td>0.008455</td>\n",
              "      <td>0.012866</td>\n",
              "      <td>0.004162</td>\n",
              "      <td>0.018920</td>\n",
              "      <td>0.011341</td>\n",
              "      <td>0.008773</td>\n",
              "    </tr>\n",
              "    <tr>\n",
              "      <th>2</th>\n",
              "      <td>2009-01-07</td>\n",
              "      <td>-0.028862</td>\n",
              "      <td>-0.026353</td>\n",
              "      <td>-0.030469</td>\n",
              "      <td>-0.017833</td>\n",
              "      <td>-0.028735</td>\n",
              "      <td>0.017293</td>\n",
              "      <td>-0.035899</td>\n",
              "      <td>-0.017073</td>\n",
              "      <td>-0.020015</td>\n",
              "    </tr>\n",
              "    <tr>\n",
              "      <th>3</th>\n",
              "      <td>2009-01-08</td>\n",
              "      <td>-0.062208</td>\n",
              "      <td>-0.084716</td>\n",
              "      <td>0.003391</td>\n",
              "      <td>-0.011726</td>\n",
              "      <td>-0.000466</td>\n",
              "      <td>-0.040061</td>\n",
              "      <td>0.028283</td>\n",
              "      <td>-0.005561</td>\n",
              "      <td>-0.019424</td>\n",
              "    </tr>\n",
              "    <tr>\n",
              "      <th>4</th>\n",
              "      <td>2009-01-09</td>\n",
              "      <td>0.009860</td>\n",
              "      <td>0.009658</td>\n",
              "      <td>-0.021533</td>\n",
              "      <td>-0.019873</td>\n",
              "      <td>-0.012710</td>\n",
              "      <td>-0.004474</td>\n",
              "      <td>-0.009764</td>\n",
              "      <td>-0.010989</td>\n",
              "      <td>-0.007802</td>\n",
              "    </tr>\n",
              "  </tbody>\n",
              "</table>\n",
              "</div>"
            ],
            "text/plain": [
              "        date    ISE_TL   ISE_USD  ...   BOVESPA        EU        EM\n",
              "0 2009-01-05  0.035754  0.038376  ...  0.031190  0.012698  0.028524\n",
              "1 2009-01-06  0.025426  0.031813  ...  0.018920  0.011341  0.008773\n",
              "2 2009-01-07 -0.028862 -0.026353  ... -0.035899 -0.017073 -0.020015\n",
              "3 2009-01-08 -0.062208 -0.084716  ...  0.028283 -0.005561 -0.019424\n",
              "4 2009-01-09  0.009860  0.009658  ... -0.009764 -0.010989 -0.007802\n",
              "\n",
              "[5 rows x 10 columns]"
            ]
          },
          "metadata": {
            "tags": []
          },
          "execution_count": 4
        }
      ]
    },
    {
      "cell_type": "markdown",
      "metadata": {
        "id": "h5d5YP4Sqd6S"
      },
      "source": [
        "0.2. Check NaN data"
      ]
    },
    {
      "cell_type": "code",
      "metadata": {
        "colab": {
          "base_uri": "https://localhost:8080/"
        },
        "id": "aHv2SMcXqMop",
        "outputId": "ec0214ba-3412-4eef-a538-89b2b73a395e"
      },
      "source": [
        "data.isnull().sum()"
      ],
      "execution_count": null,
      "outputs": [
        {
          "output_type": "execute_result",
          "data": {
            "text/plain": [
              "date       0\n",
              "ISE_TL     0\n",
              "ISE_USD    0\n",
              "SP         0\n",
              "DAX        0\n",
              "FTSE       0\n",
              "NIKKEI     0\n",
              "BOVESPA    0\n",
              "EU         0\n",
              "EM         0\n",
              "dtype: int64"
            ]
          },
          "metadata": {
            "tags": []
          },
          "execution_count": 5
        }
      ]
    },
    {
      "cell_type": "markdown",
      "metadata": {
        "id": "dcgUPWsTLpPb"
      },
      "source": [
        "0.3. set columns of x, y and make x, y"
      ]
    },
    {
      "cell_type": "code",
      "metadata": {
        "colab": {
          "base_uri": "https://localhost:8080/"
        },
        "id": "JvKhPRTiLVYk",
        "outputId": "366e4a30-194e-4439-c960-04d6d1542504"
      },
      "source": [
        "x_column = ['SP', 'DAX', 'FTSE', 'NIKKEI', 'BOVESPA', 'EU', 'EM']\n",
        "y_column = ['ISE_TL']\n",
        "\n",
        "x_data = data[x_column]\n",
        "y_data = data[y_column]\n",
        "\n",
        "print(x_data.head())\n",
        "print(y_data.head())"
      ],
      "execution_count": null,
      "outputs": [
        {
          "output_type": "stream",
          "text": [
            "         SP       DAX      FTSE    NIKKEI   BOVESPA        EU        EM\n",
            "0 -0.004679  0.002193  0.003894  0.000000  0.031190  0.012698  0.028524\n",
            "1  0.007787  0.008455  0.012866  0.004162  0.018920  0.011341  0.008773\n",
            "2 -0.030469 -0.017833 -0.028735  0.017293 -0.035899 -0.017073 -0.020015\n",
            "3  0.003391 -0.011726 -0.000466 -0.040061  0.028283 -0.005561 -0.019424\n",
            "4 -0.021533 -0.019873 -0.012710 -0.004474 -0.009764 -0.010989 -0.007802\n",
            "     ISE_TL\n",
            "0  0.035754\n",
            "1  0.025426\n",
            "2 -0.028862\n",
            "3 -0.062208\n",
            "4  0.009860\n"
          ],
          "name": "stdout"
        }
      ]
    },
    {
      "cell_type": "markdown",
      "metadata": {
        "id": "aNrr4E_AY1re"
      },
      "source": [
        "0.4. set random seed"
      ]
    },
    {
      "cell_type": "code",
      "metadata": {
        "id": "n5Tz30HBY1i_"
      },
      "source": [
        "random_number = 202172213 # use random seed"
      ],
      "execution_count": null,
      "outputs": []
    },
    {
      "cell_type": "markdown",
      "metadata": {
        "id": "ELuXdpRSsrGE"
      },
      "source": [
        "1. Regularized Linear Regression"
      ]
    },
    {
      "cell_type": "markdown",
      "metadata": {
        "id": "rLdQjQlKLWCb"
      },
      "source": [
        "1.1. Visualizing the dataset : This dataset is divided into three parts: training, cross validation and test"
      ]
    },
    {
      "cell_type": "markdown",
      "metadata": {
        "id": "k7FgbcXznRvZ"
      },
      "source": [
        "1.1.1. dataset normalization and add intercept"
      ]
    },
    {
      "cell_type": "code",
      "metadata": {
        "colab": {
          "base_uri": "https://localhost:8080/",
          "height": 204
        },
        "id": "816iPyMmnRoU",
        "outputId": "9e6a4da1-ddbf-4c25-a428-14f03675261b"
      },
      "source": [
        "# Part to use if you want to normalize.\n",
        "# (No normalization was performed on the data.)\n",
        "#x_data_scale = StandardScaler().fit(x_data).transform(x_data)\n",
        "#x_data = pd.DataFrame(x_data_scale, columns=x_data.columns)\n",
        "\n",
        "# Add intercept(=bias)\n",
        "x_data.insert(0, 'intercept', [1.0] * len(x_data))\n",
        "x_data.head()"
      ],
      "execution_count": null,
      "outputs": [
        {
          "output_type": "execute_result",
          "data": {
            "text/html": [
              "<div>\n",
              "<style scoped>\n",
              "    .dataframe tbody tr th:only-of-type {\n",
              "        vertical-align: middle;\n",
              "    }\n",
              "\n",
              "    .dataframe tbody tr th {\n",
              "        vertical-align: top;\n",
              "    }\n",
              "\n",
              "    .dataframe thead th {\n",
              "        text-align: right;\n",
              "    }\n",
              "</style>\n",
              "<table border=\"1\" class=\"dataframe\">\n",
              "  <thead>\n",
              "    <tr style=\"text-align: right;\">\n",
              "      <th></th>\n",
              "      <th>intercept</th>\n",
              "      <th>SP</th>\n",
              "      <th>DAX</th>\n",
              "      <th>FTSE</th>\n",
              "      <th>NIKKEI</th>\n",
              "      <th>BOVESPA</th>\n",
              "      <th>EU</th>\n",
              "      <th>EM</th>\n",
              "    </tr>\n",
              "  </thead>\n",
              "  <tbody>\n",
              "    <tr>\n",
              "      <th>0</th>\n",
              "      <td>1.0</td>\n",
              "      <td>-0.004679</td>\n",
              "      <td>0.002193</td>\n",
              "      <td>0.003894</td>\n",
              "      <td>0.000000</td>\n",
              "      <td>0.031190</td>\n",
              "      <td>0.012698</td>\n",
              "      <td>0.028524</td>\n",
              "    </tr>\n",
              "    <tr>\n",
              "      <th>1</th>\n",
              "      <td>1.0</td>\n",
              "      <td>0.007787</td>\n",
              "      <td>0.008455</td>\n",
              "      <td>0.012866</td>\n",
              "      <td>0.004162</td>\n",
              "      <td>0.018920</td>\n",
              "      <td>0.011341</td>\n",
              "      <td>0.008773</td>\n",
              "    </tr>\n",
              "    <tr>\n",
              "      <th>2</th>\n",
              "      <td>1.0</td>\n",
              "      <td>-0.030469</td>\n",
              "      <td>-0.017833</td>\n",
              "      <td>-0.028735</td>\n",
              "      <td>0.017293</td>\n",
              "      <td>-0.035899</td>\n",
              "      <td>-0.017073</td>\n",
              "      <td>-0.020015</td>\n",
              "    </tr>\n",
              "    <tr>\n",
              "      <th>3</th>\n",
              "      <td>1.0</td>\n",
              "      <td>0.003391</td>\n",
              "      <td>-0.011726</td>\n",
              "      <td>-0.000466</td>\n",
              "      <td>-0.040061</td>\n",
              "      <td>0.028283</td>\n",
              "      <td>-0.005561</td>\n",
              "      <td>-0.019424</td>\n",
              "    </tr>\n",
              "    <tr>\n",
              "      <th>4</th>\n",
              "      <td>1.0</td>\n",
              "      <td>-0.021533</td>\n",
              "      <td>-0.019873</td>\n",
              "      <td>-0.012710</td>\n",
              "      <td>-0.004474</td>\n",
              "      <td>-0.009764</td>\n",
              "      <td>-0.010989</td>\n",
              "      <td>-0.007802</td>\n",
              "    </tr>\n",
              "  </tbody>\n",
              "</table>\n",
              "</div>"
            ],
            "text/plain": [
              "   intercept        SP       DAX  ...   BOVESPA        EU        EM\n",
              "0        1.0 -0.004679  0.002193  ...  0.031190  0.012698  0.028524\n",
              "1        1.0  0.007787  0.008455  ...  0.018920  0.011341  0.008773\n",
              "2        1.0 -0.030469 -0.017833  ... -0.035899 -0.017073 -0.020015\n",
              "3        1.0  0.003391 -0.011726  ...  0.028283 -0.005561 -0.019424\n",
              "4        1.0 -0.021533 -0.019873  ... -0.009764 -0.010989 -0.007802\n",
              "\n",
              "[5 rows x 8 columns]"
            ]
          },
          "metadata": {
            "tags": []
          },
          "execution_count": 8
        }
      ]
    },
    {
      "cell_type": "markdown",
      "metadata": {
        "id": "F58_0c-cge2X"
      },
      "source": [
        "1.1.2. split dataset (train, validation, test)"
      ]
    },
    {
      "cell_type": "code",
      "metadata": {
        "colab": {
          "base_uri": "https://localhost:8080/"
        },
        "id": "w51rk2efjscn",
        "outputId": "baf14e2b-4b4a-4596-9df8-b13a673591fe"
      },
      "source": [
        "# train, validation, test = 6 : 2 : 2\n",
        "x_train, x_test, y_train, y_test = train_test_split(x_data, y_data, test_size=0.2, random_state=random_number)\n",
        "x_train, x_val, y_train, y_val = train_test_split(x_train, y_train, test_size=0.25, random_state=random_number)\n",
        "\n",
        "print(\"Sum of data count =\", len(x_data), \"\\n\")\n",
        "print(\"Train data count =\", len(x_train))\n",
        "print(\"Validation data count =\", len(x_val))\n",
        "print(\"Test data count =\", len(x_test))"
      ],
      "execution_count": null,
      "outputs": [
        {
          "output_type": "stream",
          "text": [
            "Sum of data count = 536 \n",
            "\n",
            "Train data count = 321\n",
            "Validation data count = 107\n",
            "Test data count = 108\n"
          ],
          "name": "stdout"
        }
      ]
    },
    {
      "cell_type": "markdown",
      "metadata": {
        "id": "hZDbn0e2j9eQ"
      },
      "source": [
        "1.1.3. Visualizing the dataset"
      ]
    },
    {
      "cell_type": "code",
      "metadata": {
        "colab": {
          "base_uri": "https://localhost:8080/",
          "height": 295
        },
        "id": "Su0S28wwsq8R",
        "outputId": "963677b1-d423-4486-9178-0c352dc83273"
      },
      "source": [
        "count = [len(x_train), len(x_val), len(x_test)]\n",
        "plt.bar(np.arange(len(count)), count)\n",
        "plt.xticks(np.arange(len(count)), ['train data', 'validation data', 'test data'])\n",
        "plt.xlabel('Data kind')\n",
        "plt.ylabel('Data count')\n",
        "plt.title('Each data count')\n",
        "plt.show()"
      ],
      "execution_count": null,
      "outputs": [
        {
          "output_type": "display_data",
          "data": {
            "image/png": "[encoded data removed]",
            "text/plain": [
              "<Figure size 432x288 with 1 Axes>"
            ]
          },
          "metadata": {
            "tags": [],
            "needs_background": "light"
          }
        }
      ]
    },
    {
      "cell_type": "markdown",
      "metadata": {
        "id": "eUoCTS5pcDUS"
      },
      "source": [
        "1.2. Identifying Cost function"
      ]
    },
    {
      "cell_type": "markdown",
      "metadata": {
        "id": "hP__Ek1JgawJ"
      },
      "source": [
        "1.2.1 initialization theta\n",
        "\n",
        "Initialize random theta"
      ]
    },
    {
      "cell_type": "code",
      "metadata": {
        "id": "f91oWhP582LH",
        "colab": {
          "base_uri": "https://localhost:8080/"
        },
        "outputId": "a232a962-c280-410d-8501-1a48349366e3"
      },
      "source": [
        "np.random.seed(random_number)\n",
        "theta = np.random.rand(len(x_train.columns))\n",
        "theta"
      ],
      "execution_count": null,
      "outputs": [
        {
          "output_type": "execute_result",
          "data": {
            "text/plain": [
              "array([0.07302274, 0.54924431, 0.54857186, 0.08458252, 0.21992765,\n",
              "       0.43625602, 0.32534117, 0.29624251])"
            ]
          },
          "metadata": {
            "tags": []
          },
          "execution_count": 11
        }
      ]
    },
    {
      "cell_type": "markdown",
      "metadata": {
        "id": "arhdd5XsNHtK"
      },
      "source": [
        "1.2.2. define non-regularized cost function"
      ]
    },
    {
      "cell_type": "code",
      "metadata": {
        "id": "53SpW1036BSW"
      },
      "source": [
        "def cost(x, t, y):\n",
        "  m = len(x)\n",
        "  loss = 0\n",
        "  for i in range(m):\n",
        "    loss += (x.iloc[i].dot(t) - y.iloc[i].item()) ** 2\n",
        "  loss /= 2 * m\n",
        "  return loss"
      ],
      "execution_count": null,
      "outputs": []
    },
    {
      "cell_type": "markdown",
      "metadata": {
        "id": "P40UtwP4tKPd"
      },
      "source": [
        "1.2.3. define non-regularized gradient descent"
      ]
    },
    {
      "cell_type": "code",
      "metadata": {
        "id": "tY37ymEatKHK"
      },
      "source": [
        "def gradient_descent(x, t, y):\n",
        "  n = len(t)\n",
        "  m = len(x)\n",
        "  descent = np.zeros(n)\n",
        "  for i in range(m):\n",
        "    descent[0] = (x.iloc[i].dot(t) - y.iloc[i])\n",
        "  descent[0] /= m\n",
        "  for j in range(1, n):\n",
        "    for i in range(m):\n",
        "      descent[j] += (x.iloc[i].dot(t) - y.iloc[i]) * x.iloc[i][j]\n",
        "    descent[j] /= m\n",
        "  return descent"
      ],
      "execution_count": null,
      "outputs": []
    },
    {
      "cell_type": "markdown",
      "metadata": {
        "id": "8YmbLoxTPAT_"
      },
      "source": [
        "1.2.4. calculate non-regularized cost and non-regularized gradient descent"
      ]
    },
    {
      "cell_type": "code",
      "metadata": {
        "colab": {
          "base_uri": "https://localhost:8080/"
        },
        "id": "fHf0ieYlPDKn",
        "outputId": "44ed7b0f-ffda-422c-d3a5-819c866bc179"
      },
      "source": [
        "print('x_train shape =', x_train.shape)\n",
        "print('theta shape =', theta.shape) # intercept(1) + columns(7)\n",
        "print('y_train shape =', y_train.shape)\n",
        "print('Non-regularized cost value =', cost(x_train, theta, y_train))\n",
        "print('Non-regularized gradient descent =', gradient_descent(x_train, theta, y_train))"
      ],
      "execution_count": null,
      "outputs": [
        {
          "output_type": "stream",
          "text": [
            "x_train shape = (321, 8)\n",
            "theta shape = (8,)\n",
            "y_train shape = (321, 1)\n",
            "Non-regularized cost value = 0.0028932660419988647\n",
            "Non-regularized gradient descent = [0.00020818 0.00024062 0.0002545  0.00016673 0.00014479 0.00030276\n",
            " 0.00018452 0.00018992]\n"
          ],
          "name": "stdout"
        }
      ]
    },
    {
      "cell_type": "markdown",
      "metadata": {
        "id": "opX2QD7vcHi2"
      },
      "source": [
        "1.3. Applying regularized linear regression gradient"
      ]
    },
    {
      "cell_type": "markdown",
      "metadata": {
        "id": "ju7aaQsTgZG5"
      },
      "source": [
        "1.3.1. define regularized cost function\n",
        "\n",
        "The reason index starts from 1 is that theta should exclude the intercept value."
      ]
    },
    {
      "cell_type": "code",
      "metadata": {
        "id": "xZ-zieY5BAzV"
      },
      "source": [
        "def cost_regularized(x, t, y, lambda_value):\n",
        "  loss = cost(x, t, y) # use non-regularized cost function\n",
        "  n = len(t)\n",
        "  regularized = 0\n",
        "  for coefficient_index in range(1, n):\n",
        "    regularized += t[coefficient_index] ** 2\n",
        "  loss += lambda_value * regularized / (2 * len(x))\n",
        "  return loss"
      ],
      "execution_count": null,
      "outputs": []
    },
    {
      "cell_type": "markdown",
      "metadata": {
        "id": "Dh7edS572B4z"
      },
      "source": [
        "1.3.2. define regularized gradient descent\n",
        "\n",
        "As with the regularized_cost function, the reason index starts from 1 is that theta should exclude the intercept value."
      ]
    },
    {
      "cell_type": "code",
      "metadata": {
        "id": "5ebEqtUn2CvL"
      },
      "source": [
        "def gradient_descent_regularized(x, t, y, lambda_value):\n",
        "  descent = gradient_descent(x, t, y) # use non-regularized gradient_descent function\n",
        "  n = len(t)\n",
        "  for j in range(1, n):\n",
        "    descent[j] += lambda_value * t[j] / len(x)\n",
        "  return descent"
      ],
      "execution_count": null,
      "outputs": []
    },
    {
      "cell_type": "markdown",
      "metadata": {
        "id": "5Gsl7bO8YCHq"
      },
      "source": [
        "1.3.3. set lambda value"
      ]
    },
    {
      "cell_type": "code",
      "metadata": {
        "id": "yn8bECjf6HNM"
      },
      "source": [
        "lambda_value = 10.24 # example"
      ],
      "execution_count": null,
      "outputs": []
    },
    {
      "cell_type": "markdown",
      "metadata": {
        "id": "b3z1GKMu6HUf"
      },
      "source": [
        "1.3.4. calculate regularized cost and regularized gradient descent"
      ]
    },
    {
      "cell_type": "code",
      "metadata": {
        "colab": {
          "base_uri": "https://localhost:8080/"
        },
        "id": "9_PK3W2JV68q",
        "outputId": "4cc52377-c24b-470d-b583-bd7449cfef7e"
      },
      "source": [
        "print('Regularized cost value =', cost_regularized(x_train, theta, y_train, lambda_value))\n",
        "print('Regularized gradient descent =', gradient_descent_regularized(x_train, theta, y_train, lambda_value))"
      ],
      "execution_count": null,
      "outputs": [
        {
          "output_type": "stream",
          "text": [
            "Regularized cost value = 0.019514103363968128\n",
            "Regularized gradient descent = [0.00020818 0.01776168 0.01775411 0.00286494 0.00716055 0.01421946\n",
            " 0.01056301 0.00964014]\n"
          ],
          "name": "stdout"
        }
      ]
    },
    {
      "cell_type": "markdown",
      "metadata": {
        "id": "HewT0riTcKL_"
      },
      "source": [
        "1.4. Fitting linear regression"
      ]
    },
    {
      "cell_type": "markdown",
      "metadata": {
        "id": "8aWRjStSgUtL"
      },
      "source": [
        "1.4.1. define train function\n",
        "\n",
        "1. Save original theta\n",
        "2. Cost value calculation\n",
        "3. Theta update"
      ]
    },
    {
      "cell_type": "code",
      "metadata": {
        "id": "mJZt7FTX513h"
      },
      "source": [
        "def train(learing_rate, epochs, x, t, y, lambda_value):\n",
        "  cost_history = []\n",
        "  # comment 1\n",
        "  original_t = t.copy()\n",
        "  for _ in tqdm(range(epochs)):\n",
        "    # comment 2\n",
        "    cost_history.append(cost_regularized(x, t, y, lambda_value))\n",
        "    # comment 3\n",
        "    t -= learning_rate * gradient_descent_regularized(x, t, y, lambda_value)\n",
        "  return cost_history, original_t, t"
      ],
      "execution_count": null,
      "outputs": []
    },
    {
      "cell_type": "markdown",
      "metadata": {
        "id": "faK5fKGRSD8W"
      },
      "source": [
        "1.4.2. set hyperparameter"
      ]
    },
    {
      "cell_type": "code",
      "metadata": {
        "colab": {
          "base_uri": "https://localhost:8080/"
        },
        "id": "eVekdO2YSD2T",
        "outputId": "a79f737f-a9f8-4935-bebd-e63d64fe425c"
      },
      "source": [
        "learning_rate = 0.1\n",
        "epochs = 100\n",
        "print('Learning rate =', learning_rate)\n",
        "print('Training epoch =', epochs)"
      ],
      "execution_count": null,
      "outputs": [
        {
          "output_type": "stream",
          "text": [
            "Learning rate = 0.1\n",
            "Training epoch = 100\n"
          ],
          "name": "stdout"
        }
      ]
    },
    {
      "cell_type": "markdown",
      "metadata": {
        "id": "yGkWaNQfSDo9"
      },
      "source": [
        "1.4.3. training"
      ]
    },
    {
      "cell_type": "code",
      "metadata": {
        "colab": {
          "base_uri": "https://localhost:8080/",
          "height": 313
        },
        "id": "BKfCQsfLSDaz",
        "outputId": "18bf77ab-b30f-4e63-8422-bdee5b2a1f95"
      },
      "source": [
        "cost_history, original_theta, theta = train(learning_rate, epochs, x_train, theta, y_train, lambda_value)\n",
        "\n",
        "plt.plot(cost_history)\n",
        "plt.xlabel('Epoch')\n",
        "plt.ylabel('Cost')\n",
        "plt.title('Fitting linear regression')\n",
        "plt.show()"
      ],
      "execution_count": null,
      "outputs": [
        {
          "output_type": "stream",
          "text": [
            "100%|██████████| 100/100 [03:11<00:00,  1.91s/it]\n"
          ],
          "name": "stderr"
        },
        {
          "output_type": "display_data",
          "data": {
            "image/png": "[encoded data removed]",
            "text/plain": [
              "<Figure size 432x288 with 1 Axes>"
            ]
          },
          "metadata": {
            "tags": [],
            "needs_background": "light"
          }
        }
      ]
    },
    {
      "cell_type": "markdown",
      "metadata": {
        "id": "otMTCvkcQ7Gg"
      },
      "source": [
        "1.4.4. Comparison of theta before and after training"
      ]
    },
    {
      "cell_type": "code",
      "metadata": {
        "colab": {
          "base_uri": "https://localhost:8080/"
        },
        "id": "HUP2a_YIQ6Oc",
        "outputId": "4779d8ea-01c4-4ab8-d8a4-76165221cad3"
      },
      "source": [
        "print(\"Before train theta = \", original_theta)\n",
        "print(\"After train theta = \", theta)"
      ],
      "execution_count": null,
      "outputs": [
        {
          "output_type": "stream",
          "text": [
            "Before train theta =  [0.07302274 0.54924431 0.54857186 0.08458252 0.21992765 0.43625602\n",
            " 0.32534117 0.29624251]\n",
            "After train theta =  [0.07100148 0.39734606 0.39679429 0.06038537 0.15873781 0.31479323\n",
            " 0.23517954 0.21389154]\n"
          ],
          "name": "stdout"
        }
      ]
    },
    {
      "cell_type": "markdown",
      "metadata": {
        "id": "cnJRn9J1cOtG"
      },
      "source": [
        "1.5. Show the trade-off between bias and variance through learning curve"
      ]
    },
    {
      "cell_type": "markdown",
      "metadata": {
        "id": "BYZ_voqTgOJk"
      },
      "source": [
        "1.5.1. set lambda values\n",
        "\n",
        "Optimal performance in the following range"
      ]
    },
    {
      "cell_type": "code",
      "metadata": {
        "colab": {
          "base_uri": "https://localhost:8080/"
        },
        "id": "zoEyV3r9Pmof",
        "outputId": "bedd2ac4-a134-441f-8199-bc6221f2ff82"
      },
      "source": [
        "lambdas = [0.01 * 2 ** i for i in range(14, 19)]\n",
        "#lambdas.insert(0, 0) # When lambda is 0, it outputs a large cost value, so it is excluded.\n",
        "lambdas"
      ],
      "execution_count": null,
      "outputs": [
        {
          "output_type": "execute_result",
          "data": {
            "text/plain": [
              "[163.84, 327.68, 655.36, 1310.72, 2621.44]"
            ]
          },
          "metadata": {
            "tags": []
          },
          "execution_count": 23
        }
      ]
    },
    {
      "cell_type": "markdown",
      "metadata": {
        "id": "wer-1AMyCc6x"
      },
      "source": [
        "1.5.2. train each learning curve\n",
        "\n",
        "Each training uses original_theta"
      ]
    },
    {
      "cell_type": "code",
      "metadata": {
        "colab": {
          "base_uri": "https://localhost:8080/"
        },
        "id": "osmilYe9CEKJ",
        "outputId": "30630536-8dc6-4c15-9283-b7a08e13dbe4"
      },
      "source": [
        "all_cost_history = []\n",
        "thetas = []\n",
        "for lam in lambdas:\n",
        "  cost_history, original_theta, theta = train(learning_rate, epochs, x_train, original_theta, y_train, lam)\n",
        "  all_cost_history.append(cost_history)\n",
        "  thetas.append(theta)"
      ],
      "execution_count": null,
      "outputs": [
        {
          "output_type": "stream",
          "text": [
            "100%|██████████| 100/100 [03:13<00:00,  1.93s/it]\n",
            "100%|██████████| 100/100 [03:14<00:00,  1.95s/it]\n",
            "100%|██████████| 100/100 [03:15<00:00,  1.95s/it]\n",
            "100%|██████████| 100/100 [03:12<00:00,  1.93s/it]\n",
            "100%|██████████| 100/100 [03:15<00:00,  1.95s/it]\n"
          ],
          "name": "stderr"
        }
      ]
    },
    {
      "cell_type": "markdown",
      "metadata": {
        "id": "yTg4A1h1DjYH"
      },
      "source": [
        "1.5.3. Compare learning curve\n",
        "\n",
        "When training for each lambda value, the cost value decreases compared"
      ]
    },
    {
      "cell_type": "code",
      "metadata": {
        "id": "nhFT2UzrDjQb",
        "colab": {
          "base_uri": "https://localhost:8080/",
          "height": 295
        },
        "outputId": "87b28613-e6b3-4bd7-81d1-fd6e247ec8ef"
      },
      "source": [
        "for lambda_index in range(len(lambdas)):\n",
        "  plt.plot(all_cost_history[lambda_index], label = str(lambdas[lambda_index]))\n",
        "plt.xlabel('Epoch')\n",
        "plt.ylabel('Cost')\n",
        "plt.title('Learning curve')\n",
        "plt.legend(loc='upper right')\n",
        "plt.show()"
      ],
      "execution_count": null,
      "outputs": [
        {
          "output_type": "display_data",
          "data": {
            "image/png": "[encoded data removed]",
            "text/plain": [
              "<Figure size 432x288 with 1 Axes>"
            ]
          },
          "metadata": {
            "tags": [],
            "needs_background": "light"
          }
        }
      ]
    },
    {
      "cell_type": "markdown",
      "metadata": {
        "id": "LqoVYICGSBi2"
      },
      "source": [
        "1.5.4. Optimal lambda for validation dataset\n",
        "\n",
        "Compare cost values for each lambda"
      ]
    },
    {
      "cell_type": "code",
      "metadata": {
        "id": "GOO3Z6OLSBb3",
        "colab": {
          "base_uri": "https://localhost:8080/",
          "height": 295
        },
        "outputId": "2dd9e2f1-b693-435a-a49a-e28c75efa8c5"
      },
      "source": [
        "costs = []\n",
        "for lambda_index in range(len(lambdas)):\n",
        "  costs.append(cost_regularized(x_val, thetas[lambda_index], y_val, lambdas[lambda_index]))\n",
        "\n",
        "plt.bar(np.arange(len(costs)), costs)\n",
        "plt.xticks(np.arange(len(lambdas)), lambdas)\n",
        "plt.ylim(0.999 * min(costs), 1.001 * max(costs))\n",
        "plt.xlabel('Lambda value')\n",
        "plt.ylabel('Cost')\n",
        "plt.title('Cost of lambda for validation data')\n",
        "plt.show()"
      ],
      "execution_count": null,
      "outputs": [
        {
          "output_type": "display_data",
          "data": {
            "image/png": "[encoded data removed]",
            "text/plain": [
              "<Figure size 432x288 with 1 Axes>"
            ]
          },
          "metadata": {
            "tags": [],
            "needs_background": "light"
          }
        }
      ]
    },
    {
      "cell_type": "markdown",
      "metadata": {
        "id": "Msxwu18rwIKj"
      },
      "source": [
        "1.5.5. Minimum cost model performance\n",
        "\n",
        "Import the model with the best performance through the validation dataset and evaluate the performance using the test dataset."
      ]
    },
    {
      "cell_type": "code",
      "metadata": {
        "colab": {
          "base_uri": "https://localhost:8080/"
        },
        "id": "7f8A9JLBwHz-",
        "outputId": "d123aa7a-1a2a-4fe0-dc23-6c15816a5580"
      },
      "source": [
        "min_index = costs.index(min(costs))\n",
        "print('Lambda value of minimum cost model =', lambdas[min_index])\n",
        "print('Test data cost of minimum cost model =', cost_regularized(x_test, thetas[min_index], y_test, lambdas[min_index]))"
      ],
      "execution_count": null,
      "outputs": [
        {
          "output_type": "stream",
          "text": [
            "Lambda value of minimum cost model = 327.68\n",
            "Test data cost of minimum cost model = 0.002350049656772313\n"
          ],
          "name": "stdout"
        }
      ]
    },
    {
      "cell_type": "markdown",
      "metadata": {
        "id": "fTBmyMgB74ds"
      },
      "source": [
        "1.5.6. Formulation"
      ]
    },
    {
      "cell_type": "code",
      "metadata": {
        "colab": {
          "base_uri": "https://localhost:8080/"
        },
        "id": "coEOhQKC74-V",
        "outputId": "3aeea5b6-ea1e-4541-c5e4-28143f6e971a"
      },
      "source": [
        "print(y_column[0], '=', thetas[min_index][0], '+', ' + '.join([str(thetas[min_index][i]) + ' * ' + str(x_train.columns[i]) for i in range(1, len(theta))]))"
      ],
      "execution_count": null,
      "outputs": [
        {
          "output_type": "stream",
          "text": [
            "ISE_TL = 0.0711502468524219 + 5.895828916371263e-05 * SP + 8.54136862474832e-05 * DAX + 0.00011091231310115706 * FTSE + 8.900543075159315e-06 * NIKKEI + 4.241588426064304e-05 * BOVESPA + 0.0001245381674459938 * EU + 3.8801789615209525e-05 * EM\n"
          ],
          "name": "stdout"
        }
      ]
    },
    {
      "cell_type": "markdown",
      "metadata": {
        "id": "cizd8mQYSCQm"
      },
      "source": [
        "2. Polynomial regression"
      ]
    },
    {
      "cell_type": "markdown",
      "metadata": {
        "id": "beLeQ5N_SCQo"
      },
      "source": [
        "2.1. Learning polynomial regression"
      ]
    },
    {
      "cell_type": "markdown",
      "metadata": {
        "id": "8tNH11-wsvX8"
      },
      "source": [
        "2.1.1 transform data for polynomial regression\n",
        "\n",
        "1. Intercept is removed because intercept is mixed while transforming into polynomial.\n",
        "\n",
        "2. Transform the expression from which the intercept has been removed into a polynomial up to the quadratic equation. (intercpet is also added automatically.)\n",
        "\n",
        "3. Check that the number of features has changed."
      ]
    },
    {
      "cell_type": "code",
      "metadata": {
        "colab": {
          "base_uri": "https://localhost:8080/"
        },
        "id": "KoFB6UUMKYO_",
        "outputId": "412b9ff0-c8c5-47ea-ffdd-1c31ea95bc14"
      },
      "source": [
        "# comment 1\n",
        "x_train_poly = x_train.drop('intercept', axis=1)\n",
        "x_val_poly = x_val.drop('intercept', axis=1)\n",
        "x_test_poly = x_test.drop('intercept', axis=1)\n",
        "\n",
        "# comment 2\n",
        "x_train_poly = pd.DataFrame(PolynomialFeatures(degree=2).fit_transform(x_train_poly))\n",
        "x_val_poly = pd.DataFrame(PolynomialFeatures(degree=2).fit_transform(x_val_poly))\n",
        "x_test_poly = pd.DataFrame(PolynomialFeatures(degree=2).fit_transform(x_test_poly))\n",
        "\n",
        "# comment 3\n",
        "print('x_train shape =', x_train.shape)\n",
        "print('x_train_poly shape =', x_train_poly.shape)\n",
        "print(x_train_poly)"
      ],
      "execution_count": null,
      "outputs": [
        {
          "output_type": "stream",
          "text": [
            "x_train shape = (321, 8)\n",
            "x_train_poly shape = (321, 36)\n",
            "      0         1         2   ...            33            34            35\n",
            "0    1.0  0.000146  0.002831  ...  9.142840e-06  9.755650e-06  1.040953e-05\n",
            "1    1.0 -0.014387 -0.017306  ...  4.002585e-04  3.060986e-04  2.340897e-04\n",
            "2    1.0  0.000827 -0.006403  ...  2.621036e-05 -1.590526e-05  9.651809e-06\n",
            "3    1.0  0.002296  0.001974  ...  1.709594e-05  3.226538e-05  6.089485e-05\n",
            "4    1.0  0.016451  0.006506  ...  6.951471e-05  4.236109e-05  2.581413e-05\n",
            "..   ...       ...       ...  ...           ...           ...           ...\n",
            "316  1.0 -0.000951 -0.002764  ...  1.091048e-05  1.103983e-05  1.117071e-05\n",
            "317  1.0 -0.008366 -0.003812  ...  1.753787e-05  9.962373e-07  5.659118e-08\n",
            "318  1.0  0.015710  0.024040  ...  3.190608e-04  2.271847e-04  1.617650e-04\n",
            "319  1.0 -0.011476 -0.000205  ...  6.270021e-06  2.043388e-05  6.659361e-05\n",
            "320  1.0  0.003038 -0.003421  ...  2.278124e-07  1.771797e-06  1.378004e-05\n",
            "\n",
            "[321 rows x 36 columns]\n"
          ],
          "name": "stdout"
        }
      ]
    },
    {
      "cell_type": "markdown",
      "metadata": {
        "id": "jSYoMeZ0AdQG"
      },
      "source": [
        "2.1.2 make theta for polynomial regression\n",
        "\n",
        "initializate theta for polynomial regression"
      ]
    },
    {
      "cell_type": "code",
      "metadata": {
        "colab": {
          "base_uri": "https://localhost:8080/"
        },
        "id": "YHEt2RsAaEqx",
        "outputId": "52f49dfc-f848-4e76-cd0f-058c055babdb"
      },
      "source": [
        "np.random.seed(random_number)\n",
        "theta_poly = np.random.rand(x_train_poly.shape[1])\n",
        "theta_poly"
      ],
      "execution_count": null,
      "outputs": [
        {
          "output_type": "execute_result",
          "data": {
            "text/plain": [
              "array([0.07302274, 0.54924431, 0.54857186, 0.08458252, 0.21992765,\n",
              "       0.43625602, 0.32534117, 0.29624251, 0.0445379 , 0.80213105,\n",
              "       0.05138941, 0.30849016, 0.95098137, 0.29026558, 0.56526911,\n",
              "       0.92287307, 0.24040091, 0.71160376, 0.36083   , 0.82905962,\n",
              "       0.05983775, 0.84026759, 0.34075022, 0.37304541, 0.56550656,\n",
              "       0.75225944, 0.08428083, 0.28257323, 0.6570534 , 0.25377638,\n",
              "       0.17611565, 0.02146311, 0.38718472, 0.41047757, 0.79855391,\n",
              "       0.1109822 ])"
            ]
          },
          "metadata": {
            "tags": []
          },
          "execution_count": 30
        }
      ]
    },
    {
      "cell_type": "markdown",
      "metadata": {
        "id": "FZ_HQsolaEhw"
      },
      "source": [
        "2.1.3 learning for polynomial regression"
      ]
    },
    {
      "cell_type": "code",
      "metadata": {
        "colab": {
          "base_uri": "https://localhost:8080/",
          "height": 313
        },
        "id": "NR6qt3heAdqI",
        "outputId": "4b3e4e60-a2b9-4b61-fe4c-9ca7d705d486"
      },
      "source": [
        "# train\n",
        "cost_history_poly, original_theta_poly, theta_poly = train(learning_rate, epochs, x_train_poly, theta_poly, y_train, 0.0)\n",
        "\n",
        "plt.plot(cost_history_poly)\n",
        "plt.xlabel('Epoch')\n",
        "plt.ylabel('Cost')\n",
        "plt.title('Learning polynomial regression')\n",
        "plt.show()"
      ],
      "execution_count": null,
      "outputs": [
        {
          "output_type": "stream",
          "text": [
            "100%|██████████| 100/100 [15:07<00:00,  9.08s/it]\n"
          ],
          "name": "stderr"
        },
        {
          "output_type": "display_data",
          "data": {
            "image/png": "[encoded data removed]",
            "text/plain": [
              "<Figure size 432x288 with 1 Axes>"
            ]
          },
          "metadata": {
            "tags": [],
            "needs_background": "light"
          }
        }
      ]
    },
    {
      "cell_type": "markdown",
      "metadata": {
        "id": "WrIl2gWUSCQp"
      },
      "source": [
        "2.2. Adjusting the regularization parameter"
      ]
    },
    {
      "cell_type": "markdown",
      "metadata": {
        "id": "EpPsMWZJ1FOt"
      },
      "source": [
        "2.2.1. set lambda values\n",
        "\n",
        "Lambda for polynomial Regerssion only"
      ]
    },
    {
      "cell_type": "code",
      "metadata": {
        "colab": {
          "base_uri": "https://localhost:8080/"
        },
        "id": "av-UQuIs1FFK",
        "outputId": "55677212-fb33-4130-ddce-26a43afa1a4a"
      },
      "source": [
        "lambdas_poly = [0.01 * 2 ** i for i in range(6)]\n",
        "lambdas_poly.insert(0, 0)\n",
        "lambdas_poly"
      ],
      "execution_count": null,
      "outputs": [
        {
          "output_type": "execute_result",
          "data": {
            "text/plain": [
              "[0, 0.01, 0.02, 0.04, 0.08, 0.16, 0.32]"
            ]
          },
          "metadata": {
            "tags": []
          },
          "execution_count": 32
        }
      ]
    },
    {
      "cell_type": "markdown",
      "metadata": {
        "id": "lwxin7p62MXG"
      },
      "source": [
        "2.2.2. training polynomial regression"
      ]
    },
    {
      "cell_type": "code",
      "metadata": {
        "colab": {
          "base_uri": "https://localhost:8080/"
        },
        "id": "o_HGkaNp2MRT",
        "outputId": "c338396b-01f0-459c-b67f-fcb2917a8122"
      },
      "source": [
        "all_cost_history_poly = []\n",
        "thetas_poly = []\n",
        "for lam in lambdas_poly:\n",
        "  cost_history_poly, original_theta_poly, theta_poly = train(learning_rate, epochs, x_train_poly, original_theta_poly, y_train, lam)\n",
        "  all_cost_history_poly.append(cost_history_poly)\n",
        "  thetas_poly.append(theta_poly)"
      ],
      "execution_count": null,
      "outputs": [
        {
          "output_type": "stream",
          "text": [
            "100%|██████████| 100/100 [15:14<00:00,  9.14s/it]\n",
            "100%|██████████| 100/100 [14:55<00:00,  8.96s/it]\n",
            "100%|██████████| 100/100 [14:44<00:00,  8.85s/it]\n",
            "100%|██████████| 100/100 [14:48<00:00,  8.89s/it]\n",
            "100%|██████████| 100/100 [14:38<00:00,  8.79s/it]\n",
            "100%|██████████| 100/100 [14:35<00:00,  8.76s/it]\n",
            "100%|██████████| 100/100 [14:37<00:00,  8.78s/it]\n"
          ],
          "name": "stderr"
        }
      ]
    },
    {
      "cell_type": "markdown",
      "metadata": {
        "id": "fbgT9Tc4STW5"
      },
      "source": [
        "2.3. Selecting lambda using a cross validation set\n",
        "\n",
        "Compare cost values for each lambda"
      ]
    },
    {
      "cell_type": "code",
      "metadata": {
        "id": "__YJS5yo7YlQ",
        "colab": {
          "base_uri": "https://localhost:8080/",
          "height": 295
        },
        "outputId": "59c828f3-47d7-4933-b797-0c67ac138208"
      },
      "source": [
        "costs_poly = []\n",
        "for lambda_index in range(len(lambdas_poly)):\n",
        "  costs_poly.append(cost_regularized(x_val_poly, thetas_poly[lambda_index], y_val, lambdas_poly[lambda_index]))\n",
        "\n",
        "plt.bar(np.arange(len(costs_poly)), costs_poly)\n",
        "plt.xticks(np.arange(len(lambdas_poly)), lambdas_poly)\n",
        "plt.ylim(0.999 * min(costs_poly), 1.001 * max(costs_poly))\n",
        "plt.xlabel('Lambda value')\n",
        "plt.ylabel('Cost')\n",
        "plt.title('Cost of lambda for validation data')\n",
        "plt.show()"
      ],
      "execution_count": null,
      "outputs": [
        {
          "output_type": "display_data",
          "data": {
            "image/png": "[encoded data removed]",
            "text/plain": [
              "<Figure size 432x288 with 1 Axes>"
            ]
          },
          "metadata": {
            "tags": [],
            "needs_background": "light"
          }
        }
      ]
    },
    {
      "cell_type": "markdown",
      "metadata": {
        "id": "VeI-bXmJSTNJ"
      },
      "source": [
        "2.4. Computing test set error\n",
        "\n",
        "Performance evaluation by importing the model that showed the best performance through the validation dataset"
      ]
    },
    {
      "cell_type": "code",
      "metadata": {
        "id": "No08xHd3Sthw",
        "colab": {
          "base_uri": "https://localhost:8080/"
        },
        "outputId": "7206782a-4587-4b4b-ebf6-505c0256b19c"
      },
      "source": [
        "min_index_poly = costs_poly.index(min(costs_poly))\n",
        "print('Lambda value of minimum cost model =', lambdas_poly[min_index_poly])\n",
        "print('Test data cost of minimum cost model =', cost_regularized(x_test_poly, thetas_poly[min_index_poly], y_test, lambdas_poly[min_index_poly]))"
      ],
      "execution_count": null,
      "outputs": [
        {
          "output_type": "stream",
          "text": [
            "Lambda value of minimum cost model = 0\n",
            "Test data cost of minimum cost model = 0.0030882032882109385\n"
          ],
          "name": "stdout"
        }
      ]
    },
    {
      "cell_type": "markdown",
      "metadata": {
        "id": "ZdTz61PVoq72"
      },
      "source": [
        "3. Save to PDF file"
      ]
    },
    {
      "cell_type": "code",
      "metadata": {
        "id": "4HuoHcV6oqn5",
        "colab": {
          "base_uri": "https://localhost:8080/"
        },
        "outputId": "c2959614-ce95-4836-d594-82323ad32956"
      },
      "source": [
        "#!apt-get install texlive-xetex texlive-fonts-recommended texlive-generic-recommended\n",
        "!jupyter nbconvert --to PDF '/content/drive/MyDrive/Colab Notebooks/istanbul_stock_exchange_202172213.ipynb'"
      ],
      "execution_count": null,
      "outputs": [
        {
          "output_type": "stream",
          "text": [
            "[NbConvertApp] Converting notebook /content/drive/MyDrive/Colab Notebooks/istanbul_stock_exchange_202172213.ipynb to PDF\n",
            "[NbConvertApp] Support files will be in istanbul_stock_exchange_202172213_files/\n",
            "[NbConvertApp] Making directory ./istanbul_stock_exchange_202172213_files\n",
            "[NbConvertApp] Making directory ./istanbul_stock_exchange_202172213_files\n",
            "[NbConvertApp] Making directory ./istanbul_stock_exchange_202172213_files\n",
            "[NbConvertApp] Making directory ./istanbul_stock_exchange_202172213_files\n",
            "[NbConvertApp] Making directory ./istanbul_stock_exchange_202172213_files\n",
            "[NbConvertApp] Making directory ./istanbul_stock_exchange_202172213_files\n",
            "[NbConvertApp] Writing 69938 bytes to ./notebook.tex\n",
            "[NbConvertApp] Building PDF\n",
            "[NbConvertApp] Running xelatex 3 times: [u'xelatex', u'./notebook.tex', '-quiet']\n",
            "[NbConvertApp] Running bibtex 1 time: [u'bibtex', u'./notebook']\n",
            "[NbConvertApp] WARNING | bibtex had problems, most likely because there were no citations\n",
            "[NbConvertApp] PDF successfully created\n",
            "[NbConvertApp] Writing 111560 bytes to /content/drive/MyDrive/Colab Notebooks/istanbul_stock_exchange_202172213.pdf\n"
          ],
          "name": "stdout"
        }
      ]
    }
  ]
}