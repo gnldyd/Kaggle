{
  "nbformat": 4,
  "nbformat_minor": 0,
  "metadata": {
    "colab": {
      "name": "dry_bean_dataset_202172213.ipynb",
      "provenance": [],
      "collapsed_sections": [],
      "toc_visible": true,
      "mount_file_id": "1AkqBJhlnPM-M0PgpsddMH4B_Dp8nU64m",
      "authorship_tag": "ABX9TyPzTWzYnCcTUSAfesyaPlIQ",
      "include_colab_link": true
    },
    "kernelspec": {
      "name": "python3",
      "display_name": "Python 3"
    },
    "language_info": {
      "name": "python"
    }
  },
  "cells": [
    {
      "cell_type": "markdown",
      "metadata": {
        "id": "view-in-github",
        "colab_type": "text"
      },
      "source": [
        "<a href=\"https://colab.research.google.com/github/gnldyd/Kaggle/blob/main/Dry_Bean_Dataset/dry_bean_dataset_202172213.ipynb\" target=\"_parent\"><img src=\"https://colab.research.google.com/assets/colab-badge.svg\" alt=\"Open In Colab\"/></a>"
      ]
    },
    {
      "cell_type": "markdown",
      "metadata": {
        "id": "FSh2pdA8S6HS"
      },
      "source": [
        "2021 1st semester - machine learning - project\n",
        "\n",
        "Dry Bean Dataset\n",
        "\n",
        "202172213 장휘용"
      ]
    },
    {
      "cell_type": "code",
      "metadata": {
        "id": "FaJoNfwT-YLB",
        "colab": {
          "base_uri": "https://localhost:8080/"
        },
        "outputId": "00d759fd-8847-4a69-d838-1c4a1f05f7bf"
      },
      "source": [
        "from google.colab import drive\n",
        "drive.mount('/content/drive')"
      ],
      "execution_count": 1,
      "outputs": [
        {
          "output_type": "stream",
          "text": [
            "Drive already mounted at /content/drive; to attempt to forcibly remount, call drive.mount(\"/content/drive\", force_remount=True).\n"
          ],
          "name": "stdout"
        }
      ]
    },
    {
      "cell_type": "markdown",
      "metadata": {
        "id": "oxt4n176bJD0"
      },
      "source": [
        "import"
      ]
    },
    {
      "cell_type": "code",
      "metadata": {
        "id": "_USgTzOs5Ug-"
      },
      "source": [
        "import pandas as pd\n",
        "import numpy as np\n",
        "import matplotlib.pyplot as plt\n",
        "from tqdm import tqdm\n",
        "from sklearn import preprocessing\n",
        "from matplotlib import pyplot as plt\n",
        "from sklearn.utils import validation\n",
        "from sklearn.model_selection import train_test_split\n",
        "from sklearn.metrics import accuracy_score\n",
        "from sklearn.metrics import confusion_matrix\n",
        "\n",
        "from sklearn.linear_model import LogisticRegression\n",
        "from sklearn.naive_bayes import GaussianNB\n",
        "from sklearn.svm import SVC\n",
        "from sklearn.neural_network import MLPClassifier\n",
        "\n",
        "from sklearn.model_selection import cross_val_score"
      ],
      "execution_count": 2,
      "outputs": []
    },
    {
      "cell_type": "markdown",
      "metadata": {
        "id": "16UpUB1agowl"
      },
      "source": [
        "0. Data processing"
      ]
    },
    {
      "cell_type": "markdown",
      "metadata": {
        "id": "JdltUPjFLz5X"
      },
      "source": [
        "0.1. load data"
      ]
    },
    {
      "cell_type": "code",
      "metadata": {
        "id": "BBghw5rbSBRA"
      },
      "source": [
        "# url = 'https://archive.ics.uci.edu/ml/machine-learning-databases/00602/DryBeanDataset.zip'\n",
        "# zip_name = url.split('/')[-1]\n",
        "# !wget --no-check-certificate $url\n",
        "# !unzip $zip_name\n",
        "# !rm $zip_name\n",
        "# file_name = 'Dry_Bean_Dataset.xlsx'\n",
        "# path = './' + zip_name.split('.')[0] + '/' + file_name\n",
        "# data = pd.read_excel(path, header=0)\n",
        "# data.head()"
      ],
      "execution_count": 3,
      "outputs": []
    },
    {
      "cell_type": "code",
      "metadata": {
        "colab": {
          "base_uri": "https://localhost:8080/",
          "height": 224
        },
        "id": "TvZAcGJa5sT3",
        "outputId": "668fbb12-c52d-471b-bfa9-01cfa9b5cb11"
      },
      "source": [
        "path = './drive/MyDrive/Colab Notebooks/data/uci_dataset/Dry_Bean_Dataset.xlsx'\n",
        "data = pd.read_excel(path, header=0)\n",
        "data.head()"
      ],
      "execution_count": 4,
      "outputs": [
        {
          "output_type": "execute_result",
          "data": {
            "text/html": [
              "<div>\n",
              "<style scoped>\n",
              "    .dataframe tbody tr th:only-of-type {\n",
              "        vertical-align: middle;\n",
              "    }\n",
              "\n",
              "    .dataframe tbody tr th {\n",
              "        vertical-align: top;\n",
              "    }\n",
              "\n",
              "    .dataframe thead th {\n",
              "        text-align: right;\n",
              "    }\n",
              "</style>\n",
              "<table border=\"1\" class=\"dataframe\">\n",
              "  <thead>\n",
              "    <tr style=\"text-align: right;\">\n",
              "      <th></th>\n",
              "      <th>Area</th>\n",
              "      <th>Perimeter</th>\n",
              "      <th>MajorAxisLength</th>\n",
              "      <th>MinorAxisLength</th>\n",
              "      <th>AspectRation</th>\n",
              "      <th>Eccentricity</th>\n",
              "      <th>ConvexArea</th>\n",
              "      <th>EquivDiameter</th>\n",
              "      <th>Extent</th>\n",
              "      <th>Solidity</th>\n",
              "      <th>roundness</th>\n",
              "      <th>Compactness</th>\n",
              "      <th>ShapeFactor1</th>\n",
              "      <th>ShapeFactor2</th>\n",
              "      <th>ShapeFactor3</th>\n",
              "      <th>ShapeFactor4</th>\n",
              "      <th>Class</th>\n",
              "    </tr>\n",
              "  </thead>\n",
              "  <tbody>\n",
              "    <tr>\n",
              "      <th>0</th>\n",
              "      <td>28395</td>\n",
              "      <td>610.291</td>\n",
              "      <td>208.178117</td>\n",
              "      <td>173.888747</td>\n",
              "      <td>1.197191</td>\n",
              "      <td>0.549812</td>\n",
              "      <td>28715</td>\n",
              "      <td>190.141097</td>\n",
              "      <td>0.763923</td>\n",
              "      <td>0.988856</td>\n",
              "      <td>0.958027</td>\n",
              "      <td>0.913358</td>\n",
              "      <td>0.007332</td>\n",
              "      <td>0.003147</td>\n",
              "      <td>0.834222</td>\n",
              "      <td>0.998724</td>\n",
              "      <td>SEKER</td>\n",
              "    </tr>\n",
              "    <tr>\n",
              "      <th>1</th>\n",
              "      <td>28734</td>\n",
              "      <td>638.018</td>\n",
              "      <td>200.524796</td>\n",
              "      <td>182.734419</td>\n",
              "      <td>1.097356</td>\n",
              "      <td>0.411785</td>\n",
              "      <td>29172</td>\n",
              "      <td>191.272750</td>\n",
              "      <td>0.783968</td>\n",
              "      <td>0.984986</td>\n",
              "      <td>0.887034</td>\n",
              "      <td>0.953861</td>\n",
              "      <td>0.006979</td>\n",
              "      <td>0.003564</td>\n",
              "      <td>0.909851</td>\n",
              "      <td>0.998430</td>\n",
              "      <td>SEKER</td>\n",
              "    </tr>\n",
              "    <tr>\n",
              "      <th>2</th>\n",
              "      <td>29380</td>\n",
              "      <td>624.110</td>\n",
              "      <td>212.826130</td>\n",
              "      <td>175.931143</td>\n",
              "      <td>1.209713</td>\n",
              "      <td>0.562727</td>\n",
              "      <td>29690</td>\n",
              "      <td>193.410904</td>\n",
              "      <td>0.778113</td>\n",
              "      <td>0.989559</td>\n",
              "      <td>0.947849</td>\n",
              "      <td>0.908774</td>\n",
              "      <td>0.007244</td>\n",
              "      <td>0.003048</td>\n",
              "      <td>0.825871</td>\n",
              "      <td>0.999066</td>\n",
              "      <td>SEKER</td>\n",
              "    </tr>\n",
              "    <tr>\n",
              "      <th>3</th>\n",
              "      <td>30008</td>\n",
              "      <td>645.884</td>\n",
              "      <td>210.557999</td>\n",
              "      <td>182.516516</td>\n",
              "      <td>1.153638</td>\n",
              "      <td>0.498616</td>\n",
              "      <td>30724</td>\n",
              "      <td>195.467062</td>\n",
              "      <td>0.782681</td>\n",
              "      <td>0.976696</td>\n",
              "      <td>0.903936</td>\n",
              "      <td>0.928329</td>\n",
              "      <td>0.007017</td>\n",
              "      <td>0.003215</td>\n",
              "      <td>0.861794</td>\n",
              "      <td>0.994199</td>\n",
              "      <td>SEKER</td>\n",
              "    </tr>\n",
              "    <tr>\n",
              "      <th>4</th>\n",
              "      <td>30140</td>\n",
              "      <td>620.134</td>\n",
              "      <td>201.847882</td>\n",
              "      <td>190.279279</td>\n",
              "      <td>1.060798</td>\n",
              "      <td>0.333680</td>\n",
              "      <td>30417</td>\n",
              "      <td>195.896503</td>\n",
              "      <td>0.773098</td>\n",
              "      <td>0.990893</td>\n",
              "      <td>0.984877</td>\n",
              "      <td>0.970516</td>\n",
              "      <td>0.006697</td>\n",
              "      <td>0.003665</td>\n",
              "      <td>0.941900</td>\n",
              "      <td>0.999166</td>\n",
              "      <td>SEKER</td>\n",
              "    </tr>\n",
              "  </tbody>\n",
              "</table>\n",
              "</div>"
            ],
            "text/plain": [
              "    Area  Perimeter  MajorAxisLength  ...  ShapeFactor3  ShapeFactor4  Class\n",
              "0  28395    610.291       208.178117  ...      0.834222      0.998724  SEKER\n",
              "1  28734    638.018       200.524796  ...      0.909851      0.998430  SEKER\n",
              "2  29380    624.110       212.826130  ...      0.825871      0.999066  SEKER\n",
              "3  30008    645.884       210.557999  ...      0.861794      0.994199  SEKER\n",
              "4  30140    620.134       201.847882  ...      0.941900      0.999166  SEKER\n",
              "\n",
              "[5 rows x 17 columns]"
            ]
          },
          "metadata": {
            "tags": []
          },
          "execution_count": 4
        }
      ]
    },
    {
      "cell_type": "markdown",
      "metadata": {
        "id": "h5d5YP4Sqd6S"
      },
      "source": [
        "0.2. Check NaN data"
      ]
    },
    {
      "cell_type": "code",
      "metadata": {
        "colab": {
          "base_uri": "https://localhost:8080/"
        },
        "id": "aHv2SMcXqMop",
        "outputId": "58d5e532-4377-499e-d5bb-b4906d7a2965"
      },
      "source": [
        "data.isnull().sum()"
      ],
      "execution_count": 5,
      "outputs": [
        {
          "output_type": "execute_result",
          "data": {
            "text/plain": [
              "Area               0\n",
              "Perimeter          0\n",
              "MajorAxisLength    0\n",
              "MinorAxisLength    0\n",
              "AspectRation       0\n",
              "Eccentricity       0\n",
              "ConvexArea         0\n",
              "EquivDiameter      0\n",
              "Extent             0\n",
              "Solidity           0\n",
              "roundness          0\n",
              "Compactness        0\n",
              "ShapeFactor1       0\n",
              "ShapeFactor2       0\n",
              "ShapeFactor3       0\n",
              "ShapeFactor4       0\n",
              "Class              0\n",
              "dtype: int64"
            ]
          },
          "metadata": {
            "tags": []
          },
          "execution_count": 5
        }
      ]
    },
    {
      "cell_type": "markdown",
      "metadata": {
        "id": "dcgUPWsTLpPb"
      },
      "source": [
        "0.3. set x, y"
      ]
    },
    {
      "cell_type": "code",
      "metadata": {
        "colab": {
          "base_uri": "https://localhost:8080/"
        },
        "id": "JvKhPRTiLVYk",
        "outputId": "81ec727c-2d7f-4bf7-b5bf-55c72eacc496"
      },
      "source": [
        "y_column = 'Class'\n",
        "x_column = data.columns.difference([y_column])\n",
        "\n",
        "x_data = data[data.columns.difference([y_column])]\n",
        "y_data = data[[y_column]]\n",
        "\n",
        "print(x_data.head())\n",
        "print(y_data.head())"
      ],
      "execution_count": 6,
      "outputs": [
        {
          "output_type": "stream",
          "text": [
            "    Area  AspectRation  Compactness  ...  ShapeFactor4  Solidity  roundness\n",
            "0  28395      1.197191     0.913358  ...      0.998724  0.988856   0.958027\n",
            "1  28734      1.097356     0.953861  ...      0.998430  0.984986   0.887034\n",
            "2  29380      1.209713     0.908774  ...      0.999066  0.989559   0.947849\n",
            "3  30008      1.153638     0.928329  ...      0.994199  0.976696   0.903936\n",
            "4  30140      1.060798     0.970516  ...      0.999166  0.990893   0.984877\n",
            "\n",
            "[5 rows x 16 columns]\n",
            "   Class\n",
            "0  SEKER\n",
            "1  SEKER\n",
            "2  SEKER\n",
            "3  SEKER\n",
            "4  SEKER\n"
          ],
          "name": "stdout"
        }
      ]
    },
    {
      "cell_type": "markdown",
      "metadata": {
        "id": "uCtg2xM3pbO5"
      },
      "source": [
        "0.4. feature scaling"
      ]
    },
    {
      "cell_type": "code",
      "metadata": {
        "colab": {
          "base_uri": "https://localhost:8080/"
        },
        "id": "vSBM7fhCpbIn",
        "outputId": "32cdc230-5f92-49ec-e659-c14ea209d154"
      },
      "source": [
        "x_data_scale = preprocessing.StandardScaler().fit(x_data).transform(x_data)\n",
        "x_data_scale"
      ],
      "execution_count": 7,
      "outputs": [
        {
          "output_type": "execute_result",
          "data": {
            "text/plain": [
              "array([[-0.84074853, -1.56505251,  1.8391164 , ...,  0.83837103,\n",
              "         0.36761343,  1.42386707],\n",
              "       [-0.82918764, -1.96978438,  2.49544929, ...,  0.77113842,\n",
              "        -0.46290658,  0.23105404],\n",
              "       [-0.80715717, -1.51429132,  1.76484275, ...,  0.91675514,\n",
              "         0.51841687,  1.25286494],\n",
              "       ...,\n",
              "       [-0.37203825, -0.4486176 ,  0.37053278, ...,  0.39025114,\n",
              "         0.5913704 ,  0.7584678 ],\n",
              "       [-0.37176543, -0.38073532,  0.28509849, ...,  0.03644001,\n",
              "         0.14371712,  0.5817534 ],\n",
              "       [-0.37135619,  0.14837437, -0.24090425, ...,  0.71371948,\n",
              "         0.53753905,  0.25368146]])"
            ]
          },
          "metadata": {
            "tags": []
          },
          "execution_count": 7
        }
      ]
    },
    {
      "cell_type": "markdown",
      "metadata": {
        "id": "5g2t1ZC5yfOZ"
      },
      "source": [
        "0.5. label encode"
      ]
    },
    {
      "cell_type": "code",
      "metadata": {
        "colab": {
          "base_uri": "https://localhost:8080/"
        },
        "id": "CmuFLv0_yfH5",
        "outputId": "02c760c7-ce0b-4724-e163-7f734c325649"
      },
      "source": [
        "y_encode = y_data.copy()\n",
        "y_encode[y_column] = pd.factorize(y_data[y_column])[0] + 1\n",
        "y_encode = validation.column_or_1d(y_encode)\n",
        "y_encode"
      ],
      "execution_count": 8,
      "outputs": [
        {
          "output_type": "execute_result",
          "data": {
            "text/plain": [
              "array([1, 1, 1, ..., 7, 7, 7])"
            ]
          },
          "metadata": {
            "tags": []
          },
          "execution_count": 8
        }
      ]
    },
    {
      "cell_type": "markdown",
      "metadata": {
        "id": "rLdQjQlKLWCb"
      },
      "source": [
        "0.6. split dataset : training and test"
      ]
    },
    {
      "cell_type": "code",
      "metadata": {
        "colab": {
          "base_uri": "https://localhost:8080/"
        },
        "id": "w51rk2efjscn",
        "outputId": "b49d9914-b654-42c3-b9d4-87b2fab03a9d"
      },
      "source": [
        "random_number = 202172213 # use random seed\n",
        "x_train, x_test, y_train, y_test = train_test_split(x_data_scale, y_encode, test_size=0.1, random_state=random_number)\n",
        "x_train, x_val, y_train, y_val = train_test_split(x_train, y_train, test_size=1/3, random_state=random_number)\n",
        "\n",
        "print(\"Sum of data count =\", len(x_data))\n",
        "print(\"Train data count =\", len(x_train))\n",
        "print(\"Validation data count =\", len(x_val))\n",
        "print(\"Test data count =\", len(x_test))"
      ],
      "execution_count": 9,
      "outputs": [
        {
          "output_type": "stream",
          "text": [
            "Sum of data count = 13611\n",
            "Train data count = 8166\n",
            "Validation data count = 4083\n",
            "Test data count = 1362\n"
          ],
          "name": "stdout"
        }
      ]
    },
    {
      "cell_type": "markdown",
      "metadata": {
        "id": "hZDbn0e2j9eQ"
      },
      "source": [
        "0.7. Visualizing the dataset"
      ]
    },
    {
      "cell_type": "code",
      "metadata": {
        "colab": {
          "base_uri": "https://localhost:8080/",
          "height": 265
        },
        "id": "Su0S28wwsq8R",
        "outputId": "aea3abd6-96db-4a69-cf56-49159cf66e02"
      },
      "source": [
        "count = [len(x_train), len(x_val), len(x_test)]\n",
        "plt.bar(np.arange(len(count)), count)\n",
        "plt.xticks(np.arange(len(count)), ['train data', 'validation data', 'test data'])\n",
        "gap = max(count) - min(count)\n",
        "plt.ylim(0, max(count) + gap / 10)\n",
        "plt.ylabel('Data count')\n",
        "plt.show()"
      ],
      "execution_count": 10,
      "outputs": [
        {
          "output_type": "display_data",
          "data": {
            "image/png": "[encoded data removed]",
            "text/plain": [
              "<Figure size 432x288 with 1 Axes>"
            ]
          },
          "metadata": {
            "tags": [],
            "needs_background": "light"
          }
        }
      ]
    },
    {
      "cell_type": "markdown",
      "metadata": {
        "id": "ELuXdpRSsrGE"
      },
      "source": [
        "1. Machine Learning"
      ]
    },
    {
      "cell_type": "markdown",
      "metadata": {
        "id": "eykXiVTbO0_Z"
      },
      "source": [
        "1.1. Logistic regression"
      ]
    },
    {
      "cell_type": "markdown",
      "metadata": {
        "id": "Fg3-pbBHfQ5O"
      },
      "source": [
        "1.1.1. initialize C"
      ]
    },
    {
      "cell_type": "code",
      "metadata": {
        "colab": {
          "base_uri": "https://localhost:8080/"
        },
        "id": "lVixNdmqfQny",
        "outputId": "aaeedc5a-fa61-46fc-f7c5-0b10834fba7b"
      },
      "source": [
        "lr_C = [100 * 0.5 ** i for i in range(14)]\n",
        "lr_C"
      ],
      "execution_count": 11,
      "outputs": [
        {
          "output_type": "execute_result",
          "data": {
            "text/plain": [
              "[100.0,\n",
              " 50.0,\n",
              " 25.0,\n",
              " 12.5,\n",
              " 6.25,\n",
              " 3.125,\n",
              " 1.5625,\n",
              " 0.78125,\n",
              " 0.390625,\n",
              " 0.1953125,\n",
              " 0.09765625,\n",
              " 0.048828125,\n",
              " 0.0244140625,\n",
              " 0.01220703125]"
            ]
          },
          "metadata": {
            "tags": []
          },
          "execution_count": 11
        }
      ]
    },
    {
      "cell_type": "markdown",
      "metadata": {
        "id": "8aWRjStSgUtL"
      },
      "source": [
        "1.1.2. train logistic regression models"
      ]
    },
    {
      "cell_type": "code",
      "metadata": {
        "id": "mJZt7FTX513h",
        "colab": {
          "base_uri": "https://localhost:8080/"
        },
        "outputId": "7ada3ca6-8346-4e66-d68d-e79a3f47a706"
      },
      "source": [
        "lr_models = []\n",
        "for c in tqdm(lr_C):\n",
        "  lr_models.append(LogisticRegression(C = c, random_state=random_number, max_iter=3000).fit(x_train, y_train))"
      ],
      "execution_count": 12,
      "outputs": [
        {
          "output_type": "stream",
          "text": [
            "100%|██████████| 14/14 [00:41<00:00,  3.00s/it]\n"
          ],
          "name": "stderr"
        }
      ]
    },
    {
      "cell_type": "markdown",
      "metadata": {
        "id": "faK5fKGRSD8W"
      },
      "source": [
        "1.1.3. Comparison of accuracy of each logistic regression model using validation data set"
      ]
    },
    {
      "cell_type": "code",
      "metadata": {
        "colab": {
          "base_uri": "https://localhost:8080/",
          "height": 313
        },
        "id": "m7xetCFih4ex",
        "outputId": "39d2d9c6-e03c-4070-abe6-d3e2a764a1ab"
      },
      "source": [
        "lr_accuracies = []\n",
        "for model in tqdm(lr_models):\n",
        "  lr_accuracies.append(accuracy_score(y_val, model.predict(x_val)))\n",
        "\n",
        "plt.barh(np.arange(len(lr_accuracies)), lr_accuracies)\n",
        "plt.yticks(np.arange(len(lr_C)), lr_C)\n",
        "plt.xlim(0.999 * min(lr_accuracies), 1.001 * max(lr_accuracies))\n",
        "\n",
        "plt.xlabel('Accuracy')\n",
        "plt.ylabel('C value')\n",
        "plt.title('Logistic Regression accuracies of C for validation data')\n",
        "plt.show()"
      ],
      "execution_count": 13,
      "outputs": [
        {
          "output_type": "stream",
          "text": [
            "100%|██████████| 14/14 [00:00<00:00, 687.74it/s]\n"
          ],
          "name": "stderr"
        },
        {
          "output_type": "display_data",
          "data": {
            "image/png": "[encoded data removed]",
            "text/plain": [
              "<Figure size 432x288 with 1 Axes>"
            ]
          },
          "metadata": {
            "tags": [],
            "needs_background": "light"
          }
        }
      ]
    },
    {
      "cell_type": "markdown",
      "metadata": {
        "id": "Q7AKWEBYz3Tf"
      },
      "source": [
        "1.1.4. Best accuracy logistic regression model of validation data set"
      ]
    },
    {
      "cell_type": "code",
      "metadata": {
        "colab": {
          "base_uri": "https://localhost:8080/"
        },
        "id": "muwhYQwLtqZU",
        "outputId": "238cae0c-de88-4e62-dab3-a2f75af7f5e2"
      },
      "source": [
        "lr_max_accuracy_index = lr_accuracies.index(max(lr_accuracies))\n",
        "print('Best accuracy =', lr_accuracies[lr_max_accuracy_index], ', and the C value =', lr_C[lr_max_accuracy_index])"
      ],
      "execution_count": 14,
      "outputs": [
        {
          "output_type": "stream",
          "text": [
            "Best accuracy = 0.9245652706343375 , and the C value = 50.0\n"
          ],
          "name": "stdout"
        }
      ]
    },
    {
      "cell_type": "markdown",
      "metadata": {
        "id": "1A9FZcXo0QF7"
      },
      "source": [
        "1.1.5. Accuracy of model using test data set of Logistic Regression"
      ]
    },
    {
      "cell_type": "code",
      "metadata": {
        "colab": {
          "base_uri": "https://localhost:8080/"
        },
        "id": "oCs19xTdujhP",
        "outputId": "073a237d-2a6f-47aa-ffcb-817f058a0d4b"
      },
      "source": [
        "print('Test data accuracy is', accuracy_score(y_test, lr_models[lr_max_accuracy_index].predict(x_test)))"
      ],
      "execution_count": 15,
      "outputs": [
        {
          "output_type": "stream",
          "text": [
            "Test data accuracy is 0.922173274596182\n"
          ],
          "name": "stdout"
        }
      ]
    },
    {
      "cell_type": "markdown",
      "metadata": {
        "id": "55MT3mNKZoBg"
      },
      "source": [
        "1.1.6 Accuracy of 10-fold data"
      ]
    },
    {
      "cell_type": "code",
      "metadata": {
        "colab": {
          "base_uri": "https://localhost:8080/",
          "height": 331
        },
        "id": "kSBD3PO1W-ns",
        "outputId": "eeb66fbe-405c-4e0b-d595-9d1b160ff485"
      },
      "source": [
        "fold = 10\n",
        "x_concat_train_val = np.concatenate((x_train, x_val, x_test), axis=0)\n",
        "y_concat_train_val = np.concatenate((y_train, y_val, y_test), axis=0)\n",
        "lr_concat_accuracies = []\n",
        "for model in tqdm(lr_models):\n",
        "  lr_concat_accuracies.append(np.mean(cross_val_score(model, x_concat_train_val, y_concat_train_val, cv=fold, n_jobs=fold)))\n",
        "\n",
        "plt.barh(np.arange(len(lr_concat_accuracies)), lr_concat_accuracies)\n",
        "plt.yticks(np.arange(len(lr_C)), lr_C)\n",
        "plt.xlim(0.999 * min(lr_concat_accuracies), 1.001 * max(lr_concat_accuracies))\n",
        "\n",
        "plt.xlabel('Accuracy')\n",
        "plt.ylabel('C value')\n",
        "plt.title('Logistic Regression Accuracies of C for 10-fold data')\n",
        "plt.show()\n",
        "\n",
        "print('Best accuracy =', max(lr_concat_accuracies))"
      ],
      "execution_count": 16,
      "outputs": [
        {
          "output_type": "stream",
          "text": [
            "100%|██████████| 14/14 [06:13<00:00, 26.66s/it]\n"
          ],
          "name": "stderr"
        },
        {
          "output_type": "display_data",
          "data": {
            "image/png": "[encoded data removed]",
            "text/plain": [
              "<Figure size 432x288 with 1 Axes>"
            ]
          },
          "metadata": {
            "tags": [],
            "needs_background": "light"
          }
        },
        {
          "output_type": "stream",
          "text": [
            "Best accuracy = 0.9260893184483638\n"
          ],
          "name": "stdout"
        }
      ]
    },
    {
      "cell_type": "markdown",
      "metadata": {
        "id": "CSVqWIgtzuvK"
      },
      "source": [
        "1.2. Naive Bayes"
      ]
    },
    {
      "cell_type": "markdown",
      "metadata": {
        "id": "xXVpOeJ5EujO"
      },
      "source": [
        "1.2.1. train naive bayes model"
      ]
    },
    {
      "cell_type": "code",
      "metadata": {
        "id": "NfRgncSCEujO"
      },
      "source": [
        "nb_models = [GaussianNB().fit(x_train, y_train)]"
      ],
      "execution_count": 17,
      "outputs": []
    },
    {
      "cell_type": "markdown",
      "metadata": {
        "id": "9ARJjuzpEujO"
      },
      "source": [
        "1.2.2. Accuracy of naive bayes model using validation data set"
      ]
    },
    {
      "cell_type": "code",
      "metadata": {
        "colab": {
          "base_uri": "https://localhost:8080/"
        },
        "id": "ISOH5k4dEujO",
        "outputId": "5d210094-af62-419c-f363-a89e8df88315"
      },
      "source": [
        "nb_max_accuracy_index = 0\n",
        "print('Validation data set accuracy =', accuracy_score(y_val, nb_models[nb_max_accuracy_index].predict(x_val)))"
      ],
      "execution_count": 18,
      "outputs": [
        {
          "output_type": "stream",
          "text": [
            "Validation data set accuracy = 0.8939505265735979\n"
          ],
          "name": "stdout"
        }
      ]
    },
    {
      "cell_type": "markdown",
      "metadata": {
        "id": "EBEsVvRFEhQu"
      },
      "source": [
        "1.2.3. Accuracy of naive bayes model using test data set"
      ]
    },
    {
      "cell_type": "code",
      "metadata": {
        "colab": {
          "base_uri": "https://localhost:8080/"
        },
        "id": "C9g4LND6EhH6",
        "outputId": "a1bff5f5-0560-469f-af5d-e7bc6b0a748e"
      },
      "source": [
        "print('Test data set accuracy =', accuracy_score(y_test, nb_models[nb_max_accuracy_index].predict(x_test)))"
      ],
      "execution_count": 19,
      "outputs": [
        {
          "output_type": "stream",
          "text": [
            "Test data set accuracy = 0.9001468428781204\n"
          ],
          "name": "stdout"
        }
      ]
    },
    {
      "cell_type": "markdown",
      "metadata": {
        "id": "xASxr4t3bZKz"
      },
      "source": [
        "1.2.4 Accuracy of 10-fold data"
      ]
    },
    {
      "cell_type": "code",
      "metadata": {
        "colab": {
          "base_uri": "https://localhost:8080/"
        },
        "id": "YXCDPDezbZK6",
        "outputId": "0b8f0b48-4b27-4718-dc7b-9d32896875f6"
      },
      "source": [
        "fold = 10\n",
        "x_concat_train_val = np.concatenate((x_train, x_val), axis=0)\n",
        "y_concat_train_val = np.concatenate((y_train, y_val), axis=0)\n",
        "\n",
        "print('10-fold data set accuracy =', np.mean(cross_val_score(nb_models[nb_max_accuracy_index], x_concat_train_val, y_concat_train_val, cv=fold, n_jobs=fold)))"
      ],
      "execution_count": 20,
      "outputs": [
        {
          "output_type": "stream",
          "text": [
            "10-fold data set accuracy = 0.8962353608109911\n"
          ],
          "name": "stdout"
        }
      ]
    },
    {
      "cell_type": "markdown",
      "metadata": {
        "id": "yGkWaNQfSDo9"
      },
      "source": [
        "1.3. SVM"
      ]
    },
    {
      "cell_type": "markdown",
      "metadata": {
        "id": "iIBOL670FJBU"
      },
      "source": [
        "1.3.1 initialize C"
      ]
    },
    {
      "cell_type": "code",
      "metadata": {
        "id": "nXsSC5EMFI4v",
        "colab": {
          "base_uri": "https://localhost:8080/"
        },
        "outputId": "703de5b0-0498-4575-9f53-bd14f5160773"
      },
      "source": [
        "svm_C = [100 * 0.5 ** i for i in range(10)]\n",
        "svm_C"
      ],
      "execution_count": 21,
      "outputs": [
        {
          "output_type": "execute_result",
          "data": {
            "text/plain": [
              "[100.0, 50.0, 25.0, 12.5, 6.25, 3.125, 1.5625, 0.78125, 0.390625, 0.1953125]"
            ]
          },
          "metadata": {
            "tags": []
          },
          "execution_count": 21
        }
      ]
    },
    {
      "cell_type": "markdown",
      "metadata": {
        "id": "xC8132fktN_I"
      },
      "source": [
        "1.3.2. train linear kernel SVM"
      ]
    },
    {
      "cell_type": "code",
      "metadata": {
        "colab": {
          "base_uri": "https://localhost:8080/"
        },
        "id": "BKfCQsfLSDaz",
        "outputId": "463388ea-647e-4ff7-982c-0f5a16d1d1e8"
      },
      "source": [
        "svm_linear_models = []\n",
        "for c in tqdm(svm_C):\n",
        "  svm_linear_models.append(SVC(C = c, kernel='linear', random_state=random_number).fit(x_train, y_train))"
      ],
      "execution_count": 22,
      "outputs": [
        {
          "output_type": "stream",
          "text": [
            "100%|██████████| 10/10 [00:06<00:00,  1.44it/s]\n"
          ],
          "name": "stderr"
        }
      ]
    },
    {
      "cell_type": "markdown",
      "metadata": {
        "id": "ol6sOmvG1j5D"
      },
      "source": [
        "1.3.3 Comparison of accuracy of each linear kernel svm model using validation data set"
      ]
    },
    {
      "cell_type": "code",
      "metadata": {
        "colab": {
          "base_uri": "https://localhost:8080/",
          "height": 295
        },
        "id": "sUu0iCczxs2H",
        "outputId": "c3304f7a-62cc-4907-f46d-2ecea719b559"
      },
      "source": [
        "svm_linear_accuracies = []\n",
        "for model in svm_linear_models:\n",
        "  svm_linear_accuracies.append(accuracy_score(y_val, model.predict(x_val)))\n",
        "\n",
        "plt.barh(np.arange(len(svm_linear_accuracies)), svm_linear_accuracies)\n",
        "plt.yticks(np.arange(len(svm_C)), svm_C)\n",
        "plt.xlim(0.999 * min(svm_linear_accuracies), 1.001 * max(svm_linear_accuracies))\n",
        "\n",
        "plt.xlabel('Accuracy')\n",
        "plt.ylabel('C value')\n",
        "plt.title('SVM linear kernel accuracies of C for validation data')\n",
        "plt.show()"
      ],
      "execution_count": 23,
      "outputs": [
        {
          "output_type": "display_data",
          "data": {
            "image/png": "[encoded data removed]",
            "text/plain": [
              "<Figure size 432x288 with 1 Axes>"
            ]
          },
          "metadata": {
            "tags": [],
            "needs_background": "light"
          }
        }
      ]
    },
    {
      "cell_type": "markdown",
      "metadata": {
        "id": "N6Y7AtkO13q_"
      },
      "source": [
        "1.3.4. Best accuracy linear kernel svm model of validation data set"
      ]
    },
    {
      "cell_type": "code",
      "metadata": {
        "colab": {
          "base_uri": "https://localhost:8080/"
        },
        "id": "RXe0c0ASxsog",
        "outputId": "73c43f92-643f-4758-df27-fba389db89a1"
      },
      "source": [
        "svm_linear_max_accuracy_index = svm_linear_accuracies.index(max(svm_linear_accuracies))\n",
        "print('Best accuracy =', svm_linear_accuracies[svm_linear_max_accuracy_index], ', and the C value =', svm_C[svm_linear_max_accuracy_index])"
      ],
      "execution_count": 24,
      "outputs": [
        {
          "output_type": "stream",
          "text": [
            "Best accuracy = 0.9287288758265981 , and the C value = 100.0\n"
          ],
          "name": "stdout"
        }
      ]
    },
    {
      "cell_type": "markdown",
      "metadata": {
        "id": "JiZXlxIW2Ekk"
      },
      "source": [
        "1.3.5. train poly kernel SVM"
      ]
    },
    {
      "cell_type": "code",
      "metadata": {
        "colab": {
          "base_uri": "https://localhost:8080/"
        },
        "id": "I2Cq2IKH2Ekm",
        "outputId": "3c602812-23ad-494b-ca6e-4ddcd72231ed"
      },
      "source": [
        "svm_poly_models = []\n",
        "for c in tqdm(svm_C):\n",
        "  svm_poly_models.append(SVC(C = c, kernel='poly', degree=5, gamma='scale', random_state=random_number).fit(x_train, y_train))"
      ],
      "execution_count": 25,
      "outputs": [
        {
          "output_type": "stream",
          "text": [
            "100%|██████████| 10/10 [00:06<00:00,  1.55it/s]\n"
          ],
          "name": "stderr"
        }
      ]
    },
    {
      "cell_type": "markdown",
      "metadata": {
        "id": "zwGnntFV2Ekn"
      },
      "source": [
        "1.3.6 Comparison of accuracy of each poly kernel svm model using validation data set"
      ]
    },
    {
      "cell_type": "code",
      "metadata": {
        "colab": {
          "base_uri": "https://localhost:8080/",
          "height": 295
        },
        "id": "Fw-Lo-aG2Ekn",
        "outputId": "51803897-3f98-4be6-b800-3ef645187208"
      },
      "source": [
        "svm_poly_accuracies = []\n",
        "for model in svm_poly_models:\n",
        "  svm_poly_accuracies.append(accuracy_score(y_val, model.predict(x_val)))\n",
        "\n",
        "plt.barh(np.arange(len(svm_poly_accuracies)), svm_poly_accuracies)\n",
        "plt.yticks(np.arange(len(svm_C)), svm_C)\n",
        "plt.xlim(0.999 * min(svm_poly_accuracies), 1.001 * max(svm_poly_accuracies))\n",
        "\n",
        "plt.xlabel('Accuracy')\n",
        "plt.ylabel('C value')\n",
        "plt.title('SVM polynomial kernel accuracies of C for validation data')\n",
        "plt.show()"
      ],
      "execution_count": 26,
      "outputs": [
        {
          "output_type": "display_data",
          "data": {
            "image/png": "[encoded data removed]",
            "text/plain": [
              "<Figure size 432x288 with 1 Axes>"
            ]
          },
          "metadata": {
            "tags": [],
            "needs_background": "light"
          }
        }
      ]
    },
    {
      "cell_type": "markdown",
      "metadata": {
        "id": "Lv-zSN7G2Eko"
      },
      "source": [
        "1.3.7. Best accuracy poly kernel svm model of validation data set"
      ]
    },
    {
      "cell_type": "code",
      "metadata": {
        "colab": {
          "base_uri": "https://localhost:8080/"
        },
        "id": "8CCoth082Eko",
        "outputId": "92a919cd-ea9c-4658-a79d-868f39260f19"
      },
      "source": [
        "svm_poly_max_accuracy_index = svm_poly_accuracies.index(max(svm_poly_accuracies))\n",
        "print('Best accuracy =', svm_poly_accuracies[svm_poly_max_accuracy_index], ', and the C value =', svm_C[svm_poly_max_accuracy_index])"
      ],
      "execution_count": 27,
      "outputs": [
        {
          "output_type": "stream",
          "text": [
            "Best accuracy = 0.9088905216752388 , and the C value = 100.0\n"
          ],
          "name": "stdout"
        }
      ]
    },
    {
      "cell_type": "markdown",
      "metadata": {
        "id": "ACrhnrRr3TIc"
      },
      "source": [
        "1.3.8. train rbf kernel SVM"
      ]
    },
    {
      "cell_type": "code",
      "metadata": {
        "colab": {
          "base_uri": "https://localhost:8080/"
        },
        "id": "5eW9_tAQ3TIl",
        "outputId": "4d3dc8aa-70b3-407e-eed4-bce73926e6e2"
      },
      "source": [
        "svm_rbf_models = []\n",
        "for c in tqdm(svm_C):\n",
        "   svm_rbf_models.append(SVC(C = c, kernel='rbf', gamma='scale', random_state=random_number, max_iter=50000).fit(x_train, y_train))"
      ],
      "execution_count": 28,
      "outputs": [
        {
          "output_type": "stream",
          "text": [
            "100%|██████████| 10/10 [00:05<00:00,  1.74it/s]\n"
          ],
          "name": "stderr"
        }
      ]
    },
    {
      "cell_type": "markdown",
      "metadata": {
        "id": "NMxnzthZ3TIm"
      },
      "source": [
        "1.3.9 Comparison of accuracy of each rbf kernel svm model using validation data set"
      ]
    },
    {
      "cell_type": "code",
      "metadata": {
        "colab": {
          "base_uri": "https://localhost:8080/",
          "height": 295
        },
        "id": "AAJRD8SH3TIm",
        "outputId": "f204a95e-1d3e-446f-daea-a4db0492053a"
      },
      "source": [
        "svm_rbf_accuracies = []\n",
        "for model in svm_rbf_models:\n",
        "  svm_rbf_accuracies.append(accuracy_score(y_val, model.predict(x_val)))\n",
        "\n",
        "plt.barh(np.arange(len(svm_rbf_accuracies)), svm_rbf_accuracies)\n",
        "plt.yticks(np.arange(len(svm_C)), svm_C)\n",
        "plt.xlim(0.999 * min(svm_rbf_accuracies), 1.001 * max(svm_rbf_accuracies))\n",
        "\n",
        "plt.xlabel('Accuracy')\n",
        "plt.ylabel('C value')\n",
        "plt.title('SVM RBF kernel accuracies of C for validation data')\n",
        "plt.show()"
      ],
      "execution_count": 29,
      "outputs": [
        {
          "output_type": "display_data",
          "data": {
            "image/png": "[encoded data removed]",
            "text/plain": [
              "<Figure size 432x288 with 1 Axes>"
            ]
          },
          "metadata": {
            "tags": [],
            "needs_background": "light"
          }
        }
      ]
    },
    {
      "cell_type": "markdown",
      "metadata": {
        "id": "wxcMoXxD3TIn"
      },
      "source": [
        "1.3.10. Best accuracy rbf kernel svm model of validation data set"
      ]
    },
    {
      "cell_type": "code",
      "metadata": {
        "colab": {
          "base_uri": "https://localhost:8080/"
        },
        "id": "1y8bWo253TIn",
        "outputId": "8863281e-e4db-42e2-8440-9ea11fb00032"
      },
      "source": [
        "svm_rbf_max_accuracy_index = svm_rbf_accuracies.index(max(svm_rbf_accuracies))\n",
        "print('Best accuracy =', svm_rbf_accuracies[svm_rbf_max_accuracy_index], ', and the C value =', svm_C[svm_rbf_max_accuracy_index])"
      ],
      "execution_count": 30,
      "outputs": [
        {
          "output_type": "stream",
          "text": [
            "Best accuracy = 0.9314229733039432 , and the C value = 6.25\n"
          ],
          "name": "stdout"
        }
      ]
    },
    {
      "cell_type": "markdown",
      "metadata": {
        "id": "otMTCvkcQ7Gg"
      },
      "source": [
        "1.3.11. Accuracy of test dataset each kernel of SVM"
      ]
    },
    {
      "cell_type": "code",
      "metadata": {
        "colab": {
          "base_uri": "https://localhost:8080/",
          "height": 313
        },
        "id": "HUP2a_YIQ6Oc",
        "outputId": "da194f42-0622-4027-ea4a-8d906b24d5b8"
      },
      "source": [
        "best_svm_models = [svm_linear_models[svm_linear_max_accuracy_index], svm_poly_models[svm_poly_max_accuracy_index], svm_rbf_models[svm_rbf_max_accuracy_index]]\n",
        "best_svm_accuracies = [model.score(x_test, y_test) for model in best_svm_models]\n",
        "plt.bar(np.arange(len(best_svm_accuracies)), best_svm_accuracies)\n",
        "plt.xticks(np.arange(len(best_svm_models)), ['linear', 'poly', 'rbf'])\n",
        "plt.ylim(0.9 * min(best_svm_accuracies), 1.001 * max(best_svm_accuracies))\n",
        "\n",
        "plt.xlabel('Accuracy')\n",
        "plt.ylabel('C value')\n",
        "plt.title('SVM accuracies of kernels for test data')\n",
        "plt.show()\n",
        "\n",
        "print(best_svm_accuracies)"
      ],
      "execution_count": 31,
      "outputs": [
        {
          "output_type": "display_data",
          "data": {
            "image/png": "[encoded data removed]",
            "text/plain": [
              "<Figure size 432x288 with 1 Axes>"
            ]
          },
          "metadata": {
            "tags": [],
            "needs_background": "light"
          }
        },
        {
          "output_type": "stream",
          "text": [
            "[0.9258443465491923, 0.908957415565345, 0.9273127753303965]\n"
          ],
          "name": "stdout"
        }
      ]
    },
    {
      "cell_type": "markdown",
      "metadata": {
        "id": "TY06pELIg38c"
      },
      "source": [
        "1.3.12 Accuracy of 10-fold data"
      ]
    },
    {
      "cell_type": "code",
      "metadata": {
        "colab": {
          "base_uri": "https://localhost:8080/",
          "height": 331
        },
        "id": "oRnjMwSPg38j",
        "outputId": "c61a2dc8-11d8-43fc-d6e8-9168d8659c50"
      },
      "source": [
        "fold = 10\n",
        "x_concat_train_val = np.concatenate((x_train, x_val, x_test), axis=0)\n",
        "y_concat_train_val = np.concatenate((y_train, y_val, y_test), axis=0)\n",
        "svm_rbf_concat_accuracies = []\n",
        "for model in tqdm(svm_rbf_models):\n",
        "  svm_rbf_concat_accuracies.append(np.mean(cross_val_score(model, x_concat_train_val, y_concat_train_val, cv=fold, n_jobs=fold)))\n",
        "\n",
        "plt.barh(np.arange(len(svm_rbf_concat_accuracies)), svm_rbf_concat_accuracies)\n",
        "plt.yticks(np.arange(len(svm_C)), svm_C)\n",
        "plt.xlim(0.999 * min(svm_rbf_concat_accuracies), 1.001 * max(svm_rbf_concat_accuracies))\n",
        "\n",
        "plt.xlabel('Accuracy')\n",
        "plt.ylabel('C value')\n",
        "plt.title('SVM RBF kernel accuracies of C for 10-fold data')\n",
        "plt.show()\n",
        "\n",
        "print('Best accuracy =', max(svm_rbf_concat_accuracies))"
      ],
      "execution_count": 32,
      "outputs": [
        {
          "output_type": "stream",
          "text": [
            "100%|██████████| 10/10 [01:39<00:00,  9.98s/it]\n"
          ],
          "name": "stderr"
        },
        {
          "output_type": "display_data",
          "data": {
            "image/png": "[encoded data removed]",
            "text/plain": [
              "<Figure size 432x288 with 1 Axes>"
            ]
          },
          "metadata": {
            "tags": [],
            "needs_background": "light"
          }
        },
        {
          "output_type": "stream",
          "text": [
            "Best accuracy = 0.9319666480011135\n"
          ],
          "name": "stdout"
        }
      ]
    },
    {
      "cell_type": "markdown",
      "metadata": {
        "id": "dSvkA_30Eqqd"
      },
      "source": [
        "1.4. MLP"
      ]
    },
    {
      "cell_type": "markdown",
      "metadata": {
        "id": "iodevuWwCXd6"
      },
      "source": [
        "1.4.1. initialize alpha"
      ]
    },
    {
      "cell_type": "code",
      "metadata": {
        "id": "VZLqkYnzCWfU",
        "colab": {
          "base_uri": "https://localhost:8080/"
        },
        "outputId": "3550695d-9732-4043-8886-95cdaab3ee6f"
      },
      "source": [
        "alphas = [0.0001 * 2 ** i for i in range(10)]\n",
        "alphas.insert(0, 0)\n",
        "alphas"
      ],
      "execution_count": 33,
      "outputs": [
        {
          "output_type": "execute_result",
          "data": {
            "text/plain": [
              "[0,\n",
              " 0.0001,\n",
              " 0.0002,\n",
              " 0.0004,\n",
              " 0.0008,\n",
              " 0.0016,\n",
              " 0.0032,\n",
              " 0.0064,\n",
              " 0.0128,\n",
              " 0.0256,\n",
              " 0.0512]"
            ]
          },
          "metadata": {
            "tags": []
          },
          "execution_count": 33
        }
      ]
    },
    {
      "cell_type": "markdown",
      "metadata": {
        "id": "codKIirNEqql"
      },
      "source": [
        "1.4.2. train MLP models"
      ]
    },
    {
      "cell_type": "code",
      "metadata": {
        "id": "8D7fg3baEqql",
        "colab": {
          "base_uri": "https://localhost:8080/"
        },
        "outputId": "a586ef2e-3b1a-4727-c452-54a9dd9c055e"
      },
      "source": [
        "mlp_models = []\n",
        "for a in tqdm(alphas):\n",
        "  mlp_models.append(MLPClassifier(alpha=a, random_state=random_number, max_iter=1000).fit(x_train, y_train))"
      ],
      "execution_count": 34,
      "outputs": [
        {
          "output_type": "stream",
          "text": [
            "100%|██████████| 11/11 [03:03<00:00, 16.65s/it]\n"
          ],
          "name": "stderr"
        }
      ]
    },
    {
      "cell_type": "markdown",
      "metadata": {
        "id": "HfF8L_2D_uaa"
      },
      "source": [
        "1.4.3. Comparison of accuracy of each alpha MLP model using validation data set"
      ]
    },
    {
      "cell_type": "code",
      "metadata": {
        "colab": {
          "base_uri": "https://localhost:8080/",
          "height": 295
        },
        "id": "T_axfxGY_uTf",
        "outputId": "bdfb8446-8f28-455d-d943-5a18fe13f550"
      },
      "source": [
        "mlp_accuracies = []\n",
        "for model in mlp_models:\n",
        "  mlp_accuracies.append(accuracy_score(y_val, model.predict(x_val)))\n",
        "\n",
        "plt.barh(np.arange(len(mlp_accuracies)), mlp_accuracies)\n",
        "plt.yticks(np.arange(len(alphas)), alphas)\n",
        "plt.xlim(0.999 * min(mlp_accuracies), 1.001 * max(mlp_accuracies))\n",
        "\n",
        "plt.xlabel('Accuracy')\n",
        "plt.ylabel('alpha value')\n",
        "plt.title('MLP accuracies of alpha for validation data')\n",
        "plt.show()"
      ],
      "execution_count": 35,
      "outputs": [
        {
          "output_type": "display_data",
          "data": {
            "image/png": "[encoded data removed]",
            "text/plain": [
              "<Figure size 432x288 with 1 Axes>"
            ]
          },
          "metadata": {
            "tags": [],
            "needs_background": "light"
          }
        }
      ]
    },
    {
      "cell_type": "markdown",
      "metadata": {
        "id": "XiRwHo9AAQb5"
      },
      "source": [
        "1.4.4. Best accuracy mlp model of validation data set"
      ]
    },
    {
      "cell_type": "code",
      "metadata": {
        "colab": {
          "base_uri": "https://localhost:8080/"
        },
        "id": "EyoVrL3NAQV4",
        "outputId": "deec5ac9-150a-489d-94cc-85cd0c3672c3"
      },
      "source": [
        "mlp_accuracy_index = mlp_accuracies.index(max(mlp_accuracies))\n",
        "print('Best accuracy =', mlp_accuracies[mlp_accuracy_index], ', and the alpha value =', alphas[mlp_accuracy_index])"
      ],
      "execution_count": 36,
      "outputs": [
        {
          "output_type": "stream",
          "text": [
            "Best accuracy = 0.9309331373989713 , and the alpha value = 0.0001\n"
          ],
          "name": "stdout"
        }
      ]
    },
    {
      "cell_type": "markdown",
      "metadata": {
        "id": "WvPRVeWiEqqm"
      },
      "source": [
        "1.4.5. Accuracy of model using test data set of MLP"
      ]
    },
    {
      "cell_type": "code",
      "metadata": {
        "id": "JwSExOstEqqm",
        "colab": {
          "base_uri": "https://localhost:8080/"
        },
        "outputId": "ab1a47b4-ea47-400c-ed64-333c01feaee1"
      },
      "source": [
        "print('Test data accuracy is', accuracy_score(y_test, mlp_models[mlp_accuracy_index].predict(x_test)))"
      ],
      "execution_count": 37,
      "outputs": [
        {
          "output_type": "stream",
          "text": [
            "Test data accuracy is 0.9317180616740088\n"
          ],
          "name": "stdout"
        }
      ]
    },
    {
      "cell_type": "markdown",
      "metadata": {
        "id": "tWeP0BpOyyTm"
      },
      "source": [
        "1.4.6. Accuracy of various MLP structures using validation data set"
      ]
    },
    {
      "cell_type": "code",
      "metadata": {
        "colab": {
          "base_uri": "https://localhost:8080/",
          "height": 313
        },
        "id": "8HJXfBJztmGX",
        "outputId": "ec89170b-6f77-4e0f-88bc-2c66faaa4f53"
      },
      "source": [
        "test_range = 10\n",
        "test_mlp_models = []\n",
        "for a in tqdm(alphas):\n",
        "    best_accuracy = 0\n",
        "    best_model = None\n",
        "    for front in range(1, test_range + 1):\n",
        "        for last in range(1, test_range + 1):\n",
        "            test_model = MLPClassifier(alpha=a, hidden_layer_sizes=(front * 10, last * 10), random_state=random_number, max_iter=1000).fit(x_train, y_train)\n",
        "            test_accuracy = accuracy_score(y_val, test_model.predict(x_val))\n",
        "            if test_accuracy > best_accuracy:\n",
        "                best_model = test_model\n",
        "                best_accuracy = test_accuracy\n",
        "    test_mlp_models.append(best_model)\n",
        "\n",
        "test_mlp_accuracies = []\n",
        "for model in test_mlp_models:\n",
        "  test_mlp_accuracies.append(accuracy_score(y_val, model.predict(x_val)))\n",
        "\n",
        "plt.barh(np.arange(len(test_mlp_accuracies)), test_mlp_accuracies)\n",
        "plt.yticks(np.arange(len(alphas)), alphas)\n",
        "plt.xlim(0.999 * min(test_mlp_accuracies), 1.001 * max(test_mlp_accuracies))\n",
        "\n",
        "plt.xlabel('Accuracy')\n",
        "plt.ylabel('alpha value')\n",
        "plt.title('MLP accuracies of alpha for validation data')\n",
        "plt.show()"
      ],
      "execution_count": 38,
      "outputs": [
        {
          "output_type": "stream",
          "text": [
            "100%|██████████| 11/11 [5:17:13<00:00, 1730.31s/it]\n"
          ],
          "name": "stderr"
        },
        {
          "output_type": "display_data",
          "data": {
            "image/png": "[encoded data removed]",
            "text/plain": [
              "<Figure size 432x288 with 1 Axes>"
            ]
          },
          "metadata": {
            "tags": [],
            "needs_background": "light"
          }
        }
      ]
    },
    {
      "cell_type": "markdown",
      "metadata": {
        "id": "L6b9XZhcy60G"
      },
      "source": [
        "1.4.7. Accuracy of various MLP structures using test data set"
      ]
    },
    {
      "cell_type": "code",
      "metadata": {
        "id": "UQ9RkEvJslKW",
        "colab": {
          "base_uri": "https://localhost:8080/"
        },
        "outputId": "b2f7f846-c469-4027-f3f7-f2f17870bda7"
      },
      "source": [
        "for i in range(len(alphas)):\n",
        "  print('alpha = ' + str(alphas[i]) + ', hidden layer = ' + str(test_mlp_models[i].hidden_layer_sizes) + ', test accuracy =', accuracy_score(y_test, test_mlp_models[i].predict(x_test)))"
      ],
      "execution_count": 39,
      "outputs": [
        {
          "output_type": "stream",
          "text": [
            "alpha = 0, hidden layer = (50, 90), test accuracy = 0.9309838472834068\n",
            "alpha = 0.0001, hidden layer = (50, 90), test accuracy = 0.9317180616740088\n",
            "alpha = 0.0002, hidden layer = (30, 10), test accuracy = 0.9287812041116006\n",
            "alpha = 0.0004, hidden layer = (50, 90), test accuracy = 0.9317180616740088\n",
            "alpha = 0.0008, hidden layer = (50, 90), test accuracy = 0.9317180616740088\n",
            "alpha = 0.0016, hidden layer = (30, 10), test accuracy = 0.9309838472834068\n",
            "alpha = 0.0032, hidden layer = (60, 80), test accuracy = 0.9317180616740088\n",
            "alpha = 0.0064, hidden layer = (50, 90), test accuracy = 0.9346549192364171\n",
            "alpha = 0.0128, hidden layer = (90, 100), test accuracy = 0.9317180616740088\n",
            "alpha = 0.0256, hidden layer = (40, 100), test accuracy = 0.9287812041116006\n",
            "alpha = 0.0512, hidden layer = (40, 70), test accuracy = 0.9280469897209985\n"
          ],
          "name": "stdout"
        }
      ]
    },
    {
      "cell_type": "markdown",
      "metadata": {
        "id": "2cyCo3nKjTbK"
      },
      "source": [
        "1.4.8 Accuracy of 10-fold data"
      ]
    },
    {
      "cell_type": "code",
      "metadata": {
        "id": "lMvkv1gqjTbN",
        "colab": {
          "base_uri": "https://localhost:8080/",
          "height": 331
        },
        "outputId": "4057ac05-26c1-4d7c-d9f2-d0a149949148"
      },
      "source": [
        "fold = 10\n",
        "x_concat_train_val = np.concatenate((x_train, x_val, x_test), axis=0)\n",
        "y_concat_train_val = np.concatenate((y_train, y_val, y_test), axis=0)\n",
        "mlp_concat_accuracies = []\n",
        "for model in tqdm(mlp_models):\n",
        "  mlp_concat_accuracies.append(np.mean(cross_val_score(model, x_concat_train_val, y_concat_train_val, cv=fold, n_jobs=fold)))\n",
        "\n",
        "plt.barh(np.arange(len(mlp_concat_accuracies)), mlp_concat_accuracies)\n",
        "plt.yticks(np.arange(len(alphas)), alphas)\n",
        "plt.xlim(0.999 * min(mlp_concat_accuracies), 1.001 * max(mlp_concat_accuracies))\n",
        "\n",
        "plt.xlabel('Accuracy')\n",
        "plt.ylabel('alpha value')\n",
        "plt.title('MLP accuracies of alpha for 10-fold data')\n",
        "plt.show()\n",
        "\n",
        "print('Best accuracy =', max(mlp_concat_accuracies))"
      ],
      "execution_count": 40,
      "outputs": [
        {
          "output_type": "stream",
          "text": [
            "100%|██████████| 11/11 [17:14<00:00, 94.04s/it]\n"
          ],
          "name": "stderr"
        },
        {
          "output_type": "display_data",
          "data": {
            "image/png": "[encoded data removed]",
            "text/plain": [
              "<Figure size 432x288 with 1 Axes>"
            ]
          },
          "metadata": {
            "tags": [],
            "needs_background": "light"
          }
        },
        {
          "output_type": "stream",
          "text": [
            "Best accuracy = 0.9336567437133232\n"
          ],
          "name": "stdout"
        }
      ]
    },
    {
      "cell_type": "markdown",
      "metadata": {
        "id": "n4mY6sHt1clY"
      },
      "source": [
        "2. Comparison of performance for each model"
      ]
    },
    {
      "cell_type": "markdown",
      "metadata": {
        "id": "s8elHBJgqyM4"
      },
      "source": [
        "2.1 Show bar graph"
      ]
    },
    {
      "cell_type": "code",
      "metadata": {
        "id": "MBrqqhRZ2EB_",
        "colab": {
          "base_uri": "https://localhost:8080/",
          "height": 281
        },
        "outputId": "f1fb3af8-5846-477f-f806-dfe566934f59"
      },
      "source": [
        "model_names = ['Logistic regression', 'Navie Bayes', 'SVM', 'MLP']\n",
        "accuracies = [\n",
        "  accuracy_score(y_test, lr_models[lr_max_accuracy_index].predict(x_test)),\n",
        "  accuracy_score(y_test, nb_models[nb_max_accuracy_index].predict(x_test)),\n",
        "  accuracy_score(y_test, svm_rbf_models[svm_rbf_max_accuracy_index].predict(x_test)),\n",
        "  accuracy_score(y_test, mlp_models[mlp_accuracy_index].predict(x_test))\n",
        "]\n",
        "plt.bar(np.arange(len(accuracies)), accuracies)\n",
        "plt.xticks(np.arange(len(accuracies)), model_names)\n",
        "gap = max(accuracies) - min(accuracies)\n",
        "plt.ylim(min(accuracies) - gap, max(accuracies) + gap)\n",
        "plt.ylabel('Accuracy of test dataset')\n",
        "plt.title('Comparison of performance')\n",
        "plt.show()"
      ],
      "execution_count": 41,
      "outputs": [
        {
          "output_type": "display_data",
          "data": {
            "image/png": "[encoded data removed]",
            "text/plain": [
              "<Figure size 432x288 with 1 Axes>"
            ]
          },
          "metadata": {
            "tags": [],
            "needs_background": "light"
          }
        }
      ]
    }
  ]
}